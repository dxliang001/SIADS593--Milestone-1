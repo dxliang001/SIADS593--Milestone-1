{
 "cells": [
  {
   "cell_type": "code",
   "execution_count": 1,
   "id": "7ebc60df",
   "metadata": {},
   "outputs": [],
   "source": [
    "import pandas as pd\n",
    "import numpy as np"
   ]
  },
  {
   "cell_type": "code",
   "execution_count": 3,
   "id": "8e60ba2e",
   "metadata": {},
   "outputs": [
    {
     "data": {
      "text/plain": [
       "(3221, 408)"
      ]
     },
     "execution_count": 3,
     "metadata": {},
     "output_type": "execute_result"
    }
   ],
   "source": [
    "chas = pd.read_csv('assets\\ACS_5YR_CHAS_Estimate_Data_by_County_-4190529618979970776.csv')\n",
    "chas.shape"
   ]
  },
  {
   "cell_type": "code",
   "execution_count": 5,
   "id": "26c24ae6",
   "metadata": {},
   "outputs": [],
   "source": [
    "#by reading the Data Dictionary I found that here's the data most related to our work\n",
    "\n",
    "# We use this to join data\n",
    "# GEOID - Geographic Identifier - fully concatenated geographic code (State FIPS and County FIPS)\n",
    "# STATE - Census 2-digit FIPS State Code\n",
    "# COUNTY - 3-digit County FIPS code\n",
    "# NAME - COUNTY NAME\n",
    "\n",
    "# T2_EST1 - Total Households\n",
    "\n",
    "# Cost-burden county by Department of house and urban Development(HUD)\n",
    "# T8_EST69 , T8_EST82, T8_EST95 , T8_EST108 - Contain cost-burdened household for =< 30% , 30-50% ,50-80% and all \n",
    "\n",
    "# already made percentage \n",
    "# T8_CB_PCT - Percent of all households with cost burden over 30% \n",
    "# T8_CB50_PCT - Percent of all households with cost burden over 30%\n",
    "# T8_LE30_CB_PCT, T8 LE30_CB50_PCT - Percent of extremely low income households (household income less than or equal to 30% HAMFI) with cost burden over 30%\n",
    "# T8_LE50_CB_PCT, T8_LE50_CB50_PCT\n",
    "# T8_LE80_CB_PCT, T8_LE80_CB_50_PCT \n",
    "\n",
    "# renter / owner break-outs - to see who's hurting\n",
    "# T7_SF_CB_R - Renter occupied AND household type is small family (2 persons, neither person 62 years or over, or 3 or 4 persons) AND housing cost burden is greater than 30%\n",
    "#  T7_LF_CB_R  - Renter occupied AND household type is large family (5 or more persons) AND housing cost burden is greater than 30%\n",
    "# T7_SF_CB_O - Owner occupied AND household type is small family (2 persons, neither person 62 years or over, or 3 or 4 persons) AND housing cost burden is greater than 30%\n",
    "#  T7_LF_CB_O - Owner occupied AND household type is large family (5 or more persons) AND housing cost burden is greater than 30%\n",
    "\n",
    "\n",
    "columns_to_keep = [\n",
    "    \"GEOID\", \"STATE\", \"COUNTY\", \"NAME\",\n",
    "    \"T2_EST1\",        \n",
    "    \"T8_EST69\",      \n",
    "    \"T8_EST82\",        \n",
    "    \"T8_EST95\",         \n",
    "    \"T8_EST108\",    \n",
    "    \"T8_LE30_CB_PCT\", \"T8_LE30_CB50_PCT\",\n",
    "    \"T8_LE50_CB_PCT\", \"T8_LE50_CB50_PCT\",\n",
    "    \"T8_LE80_CB_PCT\", \"T8_LE80_CB50_PCT\",\n",
    "    \"T8_CB_PCT\", \"T8_CB50_PCT\",\n",
    "    \"T7_SF_CB_R\", \"T7_LF_CB_R\", \"T7_SF_CB_O\", \"T7_LF_CB_O\",\n",
    "]\n",
    "chas = chas[columns_to_keep].copy()\n"
   ]
  },
  {
   "cell_type": "code",
   "execution_count": 6,
   "id": "04b4fcb4",
   "metadata": {},
   "outputs": [
    {
     "data": {
      "text/plain": [
       "GEOID               0\n",
       "STATE               0\n",
       "COUNTY              0\n",
       "NAME                0\n",
       "T2_EST1             0\n",
       "T8_EST69            0\n",
       "T8_EST82            0\n",
       "T8_EST95            0\n",
       "T8_EST108           0\n",
       "T8_LE30_CB_PCT      1\n",
       "T8_LE30_CB50_PCT    1\n",
       "T8_LE50_CB_PCT      1\n",
       "T8_LE50_CB50_PCT    1\n",
       "T8_LE80_CB_PCT      0\n",
       "T8_LE80_CB50_PCT    0\n",
       "T8_CB_PCT           0\n",
       "T8_CB50_PCT         0\n",
       "T7_SF_CB_R          0\n",
       "T7_LF_CB_R          0\n",
       "T7_SF_CB_O          0\n",
       "T7_LF_CB_O          0\n",
       "dtype: int64"
      ]
     },
     "execution_count": 6,
     "metadata": {},
     "output_type": "execute_result"
    }
   ],
   "source": [
    "#check for missing value\n",
    "subset = chas[columns_to_keep]\n",
    "missing_counts   = subset.isna().sum()   \n",
    "\n",
    "missing_counts"
   ]
  },
  {
   "cell_type": "code",
   "execution_count": 7,
   "id": "997356c3",
   "metadata": {},
   "outputs": [],
   "source": [
    "colums_renames = {\n",
    "\n",
    "    \"GEOID\"        : \"GEOID\",\n",
    "    \"STATE\"        : \"STATE\",\n",
    "    \"COUNTY\"       : \"COUNTY\",\n",
    "    \"NAME\"         : \"NAME\",\n",
    "\n",
    "    \"T2_EST1\"      : \"total_households\",\n",
    "    \"T8_EST69\"     : \"cost_burdened_households_leq_30_percent\",\n",
    "    \"T8_EST82\"     : \"cost_burdened_households_30_to_50_percent\",\n",
    "    \"T8_EST95\"     : \"cost_burdened_households_50_to_80_percent\",\n",
    "    \"T8_EST108\"    : \"cost_burdened_households_all_income_levels_count\",\n",
    "\n",
    "    \"T8_CB_PCT\"        : \"Percent_of_all_with_cb_over30_percent\",\n",
    "    \"T8_CB50_PCT\"      : \"Percent_of_all_with_cb_over50_percent\",\n",
    "    \n",
    "    \"T8_LE30_CB_PCT\"   : \"Percent_of_low_income_cb_over30_percent\",\n",
    "    \"T8_LE30_CB50_PCT\" : \"Percent_of_low_income_cb_over50_percent\",\n",
    "\n",
    "    \"T8_LE50_CB_PCT\"   : \"Percent_of_medi_income_cb_over30_percent\",\n",
    "    \"T8_LE50_CB50_PCT\" : \"Percent_of_medi_income_cb_over50_percent\",\n",
    "\n",
    "    \"T8_LE80_CB_PCT\"   : \"Percent_of_high_income_cb_over30_percent\",\n",
    "    \"T8_LE80_CB50_PCT\" : \"Percent_of_high_income_cb_over50_percent\",\n",
    "\n",
    "    \"T7_SF_CB_R\"   : \"Percent_renter_small_family_count_cb_over30\",\n",
    "    \"T7_LF_CB_R\"   : \"Percent_renter_large_family_count_cb_over50\",\n",
    "    \"T7_SF_CB_O\"   : \"Percent_owner_small_family_count_cb_over30\",\n",
    "    \"T7_LF_CB_O\"   : \"Percent_owner_large_family_count_cb_over50\",\n",
    "}\n",
    "\n",
    "chas.rename(columns= colums_renames, inplace=True)"
   ]
  },
  {
   "cell_type": "code",
   "execution_count": 8,
   "id": "79f2445e",
   "metadata": {},
   "outputs": [
    {
     "name": "stdout",
     "output_type": "stream",
     "text": [
      "Percent_of_low_income_cb_over50_percent        1\n",
      "Percent_of_medi_income_cb_over30_percent       1\n",
      "Percent_of_low_income_cb_over30_percent        1\n",
      "Percent_of_medi_income_cb_over50_percent       1\n",
      "Percent_owner_small_family_count_cb_over30     0\n",
      "Percent_renter_large_family_count_cb_over50    0\n",
      "Percent_renter_small_family_count_cb_over30    0\n",
      "Percent_of_all_with_cb_over50_percent          0\n",
      "Percent_of_all_with_cb_over30_percent          0\n",
      "Percent_of_high_income_cb_over50_percent       0\n",
      "dtype: int64\n",
      "                                                     min         max  \\\n",
      "GEOID                                             1001.0    72153.00   \n",
      "STATE                                                1.0       72.00   \n",
      "COUNTY                                               1.0      840.00   \n",
      "total_households                                    60.0  3332505.00   \n",
      "cost_burdened_households_leq_30_percent              0.0   531195.00   \n",
      "cost_burdened_households_30_to_50_percent            0.0   331775.00   \n",
      "cost_burdened_households_50_to_80_percent            0.0   367540.00   \n",
      "cost_burdened_households_all_income_levels_count     0.0   159240.00   \n",
      "Percent_of_low_income_cb_over30_percent              0.0      100.00   \n",
      "Percent_of_low_income_cb_over50_percent              0.0      100.00   \n",
      "Percent_of_medi_income_cb_over30_percent             0.0       87.00   \n",
      "Percent_of_medi_income_cb_over50_percent             0.0       70.34   \n",
      "Percent_of_high_income_cb_over30_percent             0.0       83.87   \n",
      "Percent_of_high_income_cb_over50_percent             0.0       54.61   \n",
      "Percent_of_all_with_cb_over30_percent                0.0       50.55   \n",
      "Percent_of_all_with_cb_over50_percent                0.0       28.43   \n",
      "Percent_renter_small_family_count_cb_over30          0.0   362820.00   \n",
      "Percent_renter_large_family_count_cb_over50          0.0   101550.00   \n",
      "Percent_owner_small_family_count_cb_over30           0.0   206370.00   \n",
      "Percent_owner_large_family_count_cb_over50           0.0    62545.00   \n",
      "\n",
      "                                                          mean  \n",
      "GEOID                                             31384.438684  \n",
      "STATE                                                31.281590  \n",
      "COUNTY                                              102.849115  \n",
      "total_households                                  38360.723378  \n",
      "cost_burdened_households_leq_30_percent            3420.447998  \n",
      "cost_burdened_households_30_to_50_percent          2421.625582  \n",
      "cost_burdened_households_50_to_80_percent          2836.334989  \n",
      "cost_burdened_households_all_income_levels_count   1414.484943  \n",
      "Percent_of_low_income_cb_over30_percent              66.540370  \n",
      "Percent_of_low_income_cb_over50_percent              49.044339  \n",
      "Percent_of_medi_income_cb_over30_percent             57.679870  \n",
      "Percent_of_medi_income_cb_over50_percent             33.347634  \n",
      "Percent_of_high_income_cb_over30_percent             44.034784  \n",
      "Percent_of_high_income_cb_over50_percent             21.514946  \n",
      "Percent_of_all_with_cb_over30_percent                22.146439  \n",
      "Percent_of_all_with_cb_over50_percent                 9.821363  \n",
      "Percent_renter_small_family_count_cb_over30        2107.746973  \n",
      "Percent_renter_large_family_count_cb_over50         442.555418  \n",
      "Percent_owner_small_family_count_cb_over30         1694.702577  \n",
      "Percent_owner_large_family_count_cb_over50          396.475629  \n"
     ]
    }
   ],
   "source": [
    "print(chas.isna().sum().sort_values(ascending=False).head(10))\n",
    "print(chas.describe().T[['min','max','mean']])"
   ]
  },
  {
   "cell_type": "code",
   "execution_count": 9,
   "id": "03a518a8",
   "metadata": {},
   "outputs": [],
   "source": [
    "# chas.to_csv('clean_data/clean_chas.csv', index= False)"
   ]
  },
  {
   "cell_type": "code",
   "execution_count": null,
   "id": "ea2c5c13",
   "metadata": {},
   "outputs": [],
   "source": []
  }
 ],
 "metadata": {
  "kernelspec": {
   "display_name": "base",
   "language": "python",
   "name": "python3"
  },
  "language_info": {
   "codemirror_mode": {
    "name": "ipython",
    "version": 3
   },
   "file_extension": ".py",
   "mimetype": "text/x-python",
   "name": "python",
   "nbconvert_exporter": "python",
   "pygments_lexer": "ipython3",
   "version": "3.9.7"
  }
 },
 "nbformat": 4,
 "nbformat_minor": 5
}
