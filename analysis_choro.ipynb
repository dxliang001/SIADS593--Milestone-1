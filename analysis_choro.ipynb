{
 "cells": [
  {
   "cell_type": "code",
   "execution_count": null,
   "id": "2d14dbdc",
   "metadata": {},
   "outputs": [],
   "source": [
    "import pandas as pd\n",
    "import numpy as np\n",
    "import zipfile\n",
    "import plotly.express as px\n",
    "import json\n",
    "import requests, io\n",
    "import geopandas as gpd\n",
    "from us import states\n"
   ]
  },
  {
   "cell_type": "code",
   "execution_count": null,
   "id": "dbc1a8ae",
   "metadata": {},
   "outputs": [],
   "source": [
    "#path to the file, or location\n",
    "zip_path = 'clean_data\\soc_chas_redfin.zip'\n",
    "csv_inside = 'soc_chas_redfin.csv'"
   ]
  },
  {
   "cell_type": "code",
   "execution_count": null,
   "id": "c1379acb",
   "metadata": {},
   "outputs": [],
   "source": [
    "#find the zipfile location and set it to z\n",
    "# then open the z zipper file and assign it to merged by using the read_csv method\n",
    "\n",
    "with zipfile.ZipFile(zip_path) as z:\n",
    "    with z.open(csv_inside) as f:\n",
    "        merged = pd.read_csv(f)\n",
    "\n",
    "# zero-pad to 5 digits so Plotly’s county FIPS match the GeoJSON keys        \n",
    "merged['COUNTY_FIPS'] = merged['GEOID'].astype(str).str.zfill(5)"
   ]
  },
  {
   "cell_type": "code",
   "execution_count": null,
   "id": "06387e71",
   "metadata": {},
   "outputs": [],
   "source": [
    "\n",
    "#columns/datas that we trying to display on the map\n",
    "numeric_cols = [\n",
    "    \"MEDIAN_SALE_PRICE\",\n",
    "    \"median_household_income\",\n",
    "    \"poverty_rate_pct\",\n",
    "    \"unemployment_rate_pct\",\n",
    "    \"Percent_of_low_income_cb_over30_percent\",\n",
    "    \"Percent_of_low_income_cb_over50_percent\",\n",
    "    \"Percent_of_medi_income_cb_over30_percent\",\n",
    "    \"Percent_of_medi_income_cb_over50_percent\",\n",
    "]\n",
    "#convert invaildate entries\n",
    "merged[numeric_cols] = merged[numeric_cols].apply(pd.to_numeric, errors=\"coerce\")\n",
    "\n",
    "\n",
    "#counties_level for plotly \n",
    "geojson_url = (\n",
    "    \"https://raw.githubusercontent.com/plotly/datasets/master/\"\n",
    "    \"geojson-counties-fips.json\"\n",
    ")\n",
    "counties_geojson = requests.get(geojson_url).json()\n",
    "\n",
    "#counties fommatting for better view\n",
    "afford_cols = {\n",
    "    \"MEDIAN_SALE_PRICE\"                       : \"$,.0f\",\n",
    "    \"median_household_income\"                 : \"$,.0f\",\n",
    "    \"poverty_rate_pct\"                        : \".2f\",\n",
    "    \"unemployment_rate_pct\"                   : \".2f\",\n",
    "    \"Percent_of_low_income_cb_over30_percent\" : \".2f\",\n",
    "    \"Percent_of_low_income_cb_over50_percent\" : \".2f\",\n",
    "    \"Percent_of_medi_income_cb_over30_percent\": \".2f\",\n",
    "    \"Percent_of_medi_income_cb_over50_percent\": \".2f\",\n",
    "}\n",
    "hover_dict = {c: f\":{fmt}\" for c, fmt in afford_cols.items()}\n",
    "\n",
    "#show county and state as raw text\n",
    "hover_dict.update({\"NAME\": True, \"STATE_CODE\": True})  \n",
    "\n",
    "\n",
    "#building the choropleth map\n",
    "fig = px.choropleth(\n",
    "    merged,  #data\n",
    "    geojson=counties_geojson, #county level \n",
    "    locations=\"COUNTY_FIPS\", \n",
    "    color=\"MEDIAN_SALE_PRICE\",\n",
    "    color_continuous_scale=\"Reds\",  #color display, I choose from light to dark\n",
    "    range_color=(\n",
    "        merged[\"MEDIAN_SALE_PRICE\"].min(),\n",
    "        merged[\"MEDIAN_SALE_PRICE\"].quantile(0.95),\n",
    "    ),\n",
    "    scope=\"usa\",\n",
    "    hover_data=hover_dict,\n",
    ")\n",
    "\n",
    "fig.update_geos(fitbounds=\"locations\", visible=False)\n",
    "fig.update_layout(\n",
    "    title_text=\"Average 2016–20 Redfin Median Sale Price by County\",\n",
    "    margin=dict(r=0, t=40, l=0, b=0),\n",
    "    coloraxis_colorbar_title=\"\",\n",
    ")\n",
    "\n",
    "fig.show()"
   ]
  },
  {
   "cell_type": "code",
   "execution_count": null,
   "id": "8d69a124",
   "metadata": {},
   "outputs": [],
   "source": []
  }
 ],
 "metadata": {
  "kernelspec": {
   "display_name": "base",
   "language": "python",
   "name": "python3"
  },
  "language_info": {
   "codemirror_mode": {
    "name": "ipython",
    "version": 3
   },
   "file_extension": ".py",
   "mimetype": "text/x-python",
   "name": "python",
   "nbconvert_exporter": "python",
   "pygments_lexer": "ipython3",
   "version": "3.9.7"
  }
 },
 "nbformat": 4,
 "nbformat_minor": 5
}
