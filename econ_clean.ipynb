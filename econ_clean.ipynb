{
 "cells": [
  {
   "cell_type": "code",
   "execution_count": 1,
   "id": "8caa3ae0",
   "metadata": {},
   "outputs": [],
   "source": [
    "import pandas as pd\n",
    "import numpy as np"
   ]
  },
  {
   "cell_type": "code",
   "execution_count": 2,
   "id": "a7cada7c",
   "metadata": {},
   "outputs": [
    {
     "data": {
      "text/plain": [
       "(3221, 146)"
      ]
     },
     "execution_count": 2,
     "metadata": {},
     "output_type": "execute_result"
    }
   ],
   "source": [
    "soc = pd.read_csv('assets/ACS_5YR_Socioeconomic_Estimate_Data_by_County_-8265857031681572420.csv')\n",
    "soc.shape"
   ]
  },
  {
   "cell_type": "code",
   "execution_count": 3,
   "id": "a9853999",
   "metadata": {},
   "outputs": [
    {
     "data": {
      "text/plain": [
       "Index(['OBJECTID_1', 'GEOID', 'STATE', 'STATE_NAME', 'COUNTY', 'NAME',\n",
       "       'B08013EST1', 'B08013_AVG_TTW', 'B08303EST1', 'B08303_30MINUS_TTW',\n",
       "       ...\n",
       "       'B23006EST29', 'B23006EST29_PCT', 'B24021EST2', 'B24021EST17',\n",
       "       'B24021EST25', 'B24021EST28', 'B24021EST29', 'B24021EST32',\n",
       "       'Shape__Area', 'Shape__Length'],\n",
       "      dtype='object', length=146)"
      ]
     },
     "execution_count": 3,
     "metadata": {},
     "output_type": "execute_result"
    }
   ],
   "source": [
    "soc.columns"
   ]
  },
  {
   "cell_type": "code",
   "execution_count": 4,
   "id": "bdb88634",
   "metadata": {},
   "outputs": [],
   "source": [
    "#by reading the Data Dictionary I found that here's the data most related to our work\n",
    "\n",
    "# 4 Primary key  'GEOID', 'STATE',  'COUNTY', 'NAME'\n",
    "\n",
    "# Household information - - ability to pay \n",
    "# 'B19013EST1' = household income/poverty   \n",
    "# 'B19113EST1' = family income \n",
    "# 'B19202EST1' = median single income\n",
    "\n",
    "# 'B17021EST2_PCT' = POVERTY RATE\n",
    "# 'B23001_UE_PCT' = unempolyment rate\n",
    "\n",
    "\n",
    "# 'B25106_CB_LT35' = cost-burdened < 35%\n",
    "# 'B25106_CB_GT35' - cost-burdened >= 35%\n",
    "\n",
    "# 'B25014_CROWD_PCT' = households with more than 1 person or room\n",
    "\n",
    "# 'B17019_RENT' =  Renter-occupied \n",
    "# 'B17019_OWN'  =  Owner-occupied \n",
    "\n"
   ]
  },
  {
   "cell_type": "code",
   "execution_count": 7,
   "id": "808602f4",
   "metadata": {},
   "outputs": [
    {
     "ename": "KeyError",
     "evalue": "\"['B19013EST1', 'B19113EST1', 'B19202EST1', 'B17021EST2_PCT', 'B23001_UE_PCT', 'B25106_CB_R_LT35', 'B25106_CB_R_GT35', 'B25106_CB_O_LT35', 'B25106_CB_O_GT35', 'B25014_CROWD_PCT', 'B17019_RENT', 'B17019_OWN'] not in index\"",
     "output_type": "error",
     "traceback": [
      "\u001b[1;31m---------------------------------------------------------------------------\u001b[0m",
      "\u001b[1;31mKeyError\u001b[0m                                  Traceback (most recent call last)",
      "\u001b[1;32m~\\AppData\\Local\\Temp/ipykernel_14812/1274666960.py\u001b[0m in \u001b[0;36m<module>\u001b[1;34m\u001b[0m\n\u001b[0;32m     16\u001b[0m \u001b[1;33m\u001b[0m\u001b[0m\n\u001b[0;32m     17\u001b[0m \u001b[0mneeded\u001b[0m \u001b[1;33m=\u001b[0m \u001b[1;33m[\u001b[0m\u001b[1;34m'GEOID'\u001b[0m\u001b[1;33m,\u001b[0m\u001b[1;34m'STATE'\u001b[0m\u001b[1;33m,\u001b[0m\u001b[1;34m'COUNTY'\u001b[0m\u001b[1;33m,\u001b[0m\u001b[1;34m'NAME'\u001b[0m\u001b[1;33m,\u001b[0m \u001b[1;33m*\u001b[0m\u001b[0mrename_soc\u001b[0m\u001b[1;33m.\u001b[0m\u001b[0mkeys\u001b[0m\u001b[1;33m(\u001b[0m\u001b[1;33m)\u001b[0m\u001b[1;33m]\u001b[0m\u001b[1;33m\u001b[0m\u001b[1;33m\u001b[0m\u001b[0m\n\u001b[1;32m---> 18\u001b[1;33m \u001b[0msoc\u001b[0m \u001b[1;33m=\u001b[0m \u001b[0msoc\u001b[0m\u001b[1;33m[\u001b[0m\u001b[0mneeded\u001b[0m\u001b[1;33m]\u001b[0m\u001b[1;33m.\u001b[0m\u001b[0mrename\u001b[0m\u001b[1;33m(\u001b[0m\u001b[0mcolumns\u001b[0m\u001b[1;33m=\u001b[0m\u001b[0mrename_soc\u001b[0m\u001b[1;33m)\u001b[0m\u001b[1;33m\u001b[0m\u001b[1;33m\u001b[0m\u001b[0m\n\u001b[0m",
      "\u001b[1;32mc:\\Users\\a5636\\anaconda3\\lib\\site-packages\\pandas\\core\\frame.py\u001b[0m in \u001b[0;36m__getitem__\u001b[1;34m(self, key)\u001b[0m\n\u001b[0;32m   3462\u001b[0m             \u001b[1;32mif\u001b[0m \u001b[0mis_iterator\u001b[0m\u001b[1;33m(\u001b[0m\u001b[0mkey\u001b[0m\u001b[1;33m)\u001b[0m\u001b[1;33m:\u001b[0m\u001b[1;33m\u001b[0m\u001b[1;33m\u001b[0m\u001b[0m\n\u001b[0;32m   3463\u001b[0m                 \u001b[0mkey\u001b[0m \u001b[1;33m=\u001b[0m \u001b[0mlist\u001b[0m\u001b[1;33m(\u001b[0m\u001b[0mkey\u001b[0m\u001b[1;33m)\u001b[0m\u001b[1;33m\u001b[0m\u001b[1;33m\u001b[0m\u001b[0m\n\u001b[1;32m-> 3464\u001b[1;33m             \u001b[0mindexer\u001b[0m \u001b[1;33m=\u001b[0m \u001b[0mself\u001b[0m\u001b[1;33m.\u001b[0m\u001b[0mloc\u001b[0m\u001b[1;33m.\u001b[0m\u001b[0m_get_listlike_indexer\u001b[0m\u001b[1;33m(\u001b[0m\u001b[0mkey\u001b[0m\u001b[1;33m,\u001b[0m \u001b[0maxis\u001b[0m\u001b[1;33m=\u001b[0m\u001b[1;36m1\u001b[0m\u001b[1;33m)\u001b[0m\u001b[1;33m[\u001b[0m\u001b[1;36m1\u001b[0m\u001b[1;33m]\u001b[0m\u001b[1;33m\u001b[0m\u001b[1;33m\u001b[0m\u001b[0m\n\u001b[0m\u001b[0;32m   3465\u001b[0m \u001b[1;33m\u001b[0m\u001b[0m\n\u001b[0;32m   3466\u001b[0m         \u001b[1;31m# take() does not accept boolean indexers\u001b[0m\u001b[1;33m\u001b[0m\u001b[1;33m\u001b[0m\u001b[0m\n",
      "\u001b[1;32mc:\\Users\\a5636\\anaconda3\\lib\\site-packages\\pandas\\core\\indexing.py\u001b[0m in \u001b[0;36m_get_listlike_indexer\u001b[1;34m(self, key, axis)\u001b[0m\n\u001b[0;32m   1312\u001b[0m             \u001b[0mkeyarr\u001b[0m\u001b[1;33m,\u001b[0m \u001b[0mindexer\u001b[0m\u001b[1;33m,\u001b[0m \u001b[0mnew_indexer\u001b[0m \u001b[1;33m=\u001b[0m \u001b[0max\u001b[0m\u001b[1;33m.\u001b[0m\u001b[0m_reindex_non_unique\u001b[0m\u001b[1;33m(\u001b[0m\u001b[0mkeyarr\u001b[0m\u001b[1;33m)\u001b[0m\u001b[1;33m\u001b[0m\u001b[1;33m\u001b[0m\u001b[0m\n\u001b[0;32m   1313\u001b[0m \u001b[1;33m\u001b[0m\u001b[0m\n\u001b[1;32m-> 1314\u001b[1;33m         \u001b[0mself\u001b[0m\u001b[1;33m.\u001b[0m\u001b[0m_validate_read_indexer\u001b[0m\u001b[1;33m(\u001b[0m\u001b[0mkeyarr\u001b[0m\u001b[1;33m,\u001b[0m \u001b[0mindexer\u001b[0m\u001b[1;33m,\u001b[0m \u001b[0maxis\u001b[0m\u001b[1;33m)\u001b[0m\u001b[1;33m\u001b[0m\u001b[1;33m\u001b[0m\u001b[0m\n\u001b[0m\u001b[0;32m   1315\u001b[0m \u001b[1;33m\u001b[0m\u001b[0m\n\u001b[0;32m   1316\u001b[0m         if needs_i8_conversion(ax.dtype) or isinstance(\n",
      "\u001b[1;32mc:\\Users\\a5636\\anaconda3\\lib\\site-packages\\pandas\\core\\indexing.py\u001b[0m in \u001b[0;36m_validate_read_indexer\u001b[1;34m(self, key, indexer, axis)\u001b[0m\n\u001b[0;32m   1375\u001b[0m \u001b[1;33m\u001b[0m\u001b[0m\n\u001b[0;32m   1376\u001b[0m             \u001b[0mnot_found\u001b[0m \u001b[1;33m=\u001b[0m \u001b[0mlist\u001b[0m\u001b[1;33m(\u001b[0m\u001b[0mensure_index\u001b[0m\u001b[1;33m(\u001b[0m\u001b[0mkey\u001b[0m\u001b[1;33m)\u001b[0m\u001b[1;33m[\u001b[0m\u001b[0mmissing_mask\u001b[0m\u001b[1;33m.\u001b[0m\u001b[0mnonzero\u001b[0m\u001b[1;33m(\u001b[0m\u001b[1;33m)\u001b[0m\u001b[1;33m[\u001b[0m\u001b[1;36m0\u001b[0m\u001b[1;33m]\u001b[0m\u001b[1;33m]\u001b[0m\u001b[1;33m.\u001b[0m\u001b[0munique\u001b[0m\u001b[1;33m(\u001b[0m\u001b[1;33m)\u001b[0m\u001b[1;33m)\u001b[0m\u001b[1;33m\u001b[0m\u001b[1;33m\u001b[0m\u001b[0m\n\u001b[1;32m-> 1377\u001b[1;33m             \u001b[1;32mraise\u001b[0m \u001b[0mKeyError\u001b[0m\u001b[1;33m(\u001b[0m\u001b[1;34mf\"{not_found} not in index\"\u001b[0m\u001b[1;33m)\u001b[0m\u001b[1;33m\u001b[0m\u001b[1;33m\u001b[0m\u001b[0m\n\u001b[0m\u001b[0;32m   1378\u001b[0m \u001b[1;33m\u001b[0m\u001b[0m\n\u001b[0;32m   1379\u001b[0m \u001b[1;33m\u001b[0m\u001b[0m\n",
      "\u001b[1;31mKeyError\u001b[0m: \"['B19013EST1', 'B19113EST1', 'B19202EST1', 'B17021EST2_PCT', 'B23001_UE_PCT', 'B25106_CB_R_LT35', 'B25106_CB_R_GT35', 'B25106_CB_O_LT35', 'B25106_CB_O_GT35', 'B25014_CROWD_PCT', 'B17019_RENT', 'B17019_OWN'] not in index\""
     ]
    }
   ],
   "source": [
    "rename_soc = {\n",
    "    'B19013EST1':'median_household_income',\n",
    "    'B19113EST1':'median_family_income',\n",
    "    'B19202EST1':'median_nonfamily_income',\n",
    "    'B17021EST2_PCT':'poverty_rate_pct',\n",
    "    'B23001_UE_PCT':'unemployment_rate_pct',\n",
    "    'B25106_CB_R_LT35':'renters_cb_lt35_cnt',\n",
    "    'B25106_CB_R_GT35':'renters_cb_ge35_cnt',\n",
    "    'B25106_CB_O_LT35':'owners_cb_lt35_cnt',\n",
    "    'B25106_CB_O_GT35':'owners_cb_ge35_cnt',\n",
    "    'B25014_CROWD_PCT':'crowded_hh_pct',\n",
    "    'B17019_RENT':'renter_hh_cnt',\n",
    "    'B17019_OWN':'owner_hh_cnt'\n",
    "}\n",
    "\n",
    "\n",
    "needed = ['GEOID','STATE','COUNTY','NAME', *rename_soc.keys()]\n",
    "soc = soc[needed].rename(columns=rename_soc)\n"
   ]
  },
  {
   "cell_type": "code",
   "execution_count": 9,
   "id": "f519a92a",
   "metadata": {},
   "outputs": [
    {
     "data": {
      "text/plain": [
       "STATE                       0\n",
       "unemployment_rate_pct       0\n",
       "poverty_rate_pct            0\n",
       "crowded_hh_pct              0\n",
       "NAME                        0\n",
       "owners_cb_lt35_cnt          0\n",
       "median_nonfamily_income    13\n",
       "median_family_income        1\n",
       "COUNTY                      0\n",
       "GEOID                       0\n",
       "renters_cb_ge35_cnt         0\n",
       "renter_hh_cnt               0\n",
       "owner_hh_cnt                0\n",
       "owners_cb_ge35_cnt          0\n",
       "median_household_income     1\n",
       "renters_cb_lt35_cnt         0\n",
       "dtype: int64"
      ]
     },
     "execution_count": 9,
     "metadata": {},
     "output_type": "execute_result"
    }
   ],
   "source": [
    "columns_soc= {\n",
    "    'GEOID','STATE','COUNTY','NAME',\n",
    "    'median_household_income',\n",
    "    'median_family_income',\n",
    "    'median_nonfamily_income',\n",
    "    'poverty_rate_pct',\n",
    "    'unemployment_rate_pct',\n",
    "    'renters_cb_lt35_cnt',\n",
    "    'renters_cb_ge35_cnt',\n",
    "    'owners_cb_lt35_cnt',\n",
    "    'owners_cb_ge35_cnt',\n",
    "    'crowded_hh_pct',\n",
    "    'renter_hh_cnt',\n",
    "    'owner_hh_cnt'\n",
    "}\n",
    "\n",
    "subset = soc[columns_soc]\n",
    "missing_counts   = subset.isna().sum()   \n",
    "\n",
    "missing_counts\n",
    "#result show there are 13 missing row on the median_nonfamily_income\n",
    "#which is < 1% which it wont effect much so we can leave it"
   ]
  },
  {
   "cell_type": "code",
   "execution_count": 10,
   "id": "b3a5d3ea",
   "metadata": {},
   "outputs": [
    {
     "name": "stdout",
     "output_type": "stream",
     "text": [
      "median_nonfamily_income    13\n",
      "median_household_income     1\n",
      "median_family_income        1\n",
      "GEOID                       0\n",
      "STATE                       0\n",
      "COUNTY                      0\n",
      "NAME                        0\n",
      "poverty_rate_pct            0\n",
      "unemployment_rate_pct       0\n",
      "renters_cb_lt35_cnt         0\n",
      "dtype: int64\n",
      "                             min        max          mean\n",
      "GEOID                     1001.0   72153.00  31384.438684\n",
      "STATE                        1.0      72.00     31.281590\n",
      "COUNTY                       1.0     840.00    102.849115\n",
      "median_household_income  12283.0  147111.00  54171.514596\n",
      "median_family_income     15478.0  182567.00  67463.473602\n",
      "median_nonfamily_income   4783.0   96421.00  30964.596322\n",
      "poverty_rate_pct             0.0      66.19     15.380863\n",
      "unemployment_rate_pct        0.0      34.85      5.450699\n",
      "renters_cb_lt35_cnt          0.0  528543.00   4329.934492\n",
      "renters_cb_ge35_cnt          0.0  449504.00   1878.503881\n",
      "owners_cb_lt35_cnt           0.0  156577.00   2639.434027\n",
      "owners_cb_ge35_cnt           0.0  381890.00   2769.505744\n",
      "crowded_hh_pct               0.0      42.17      2.383154\n",
      "renter_hh_cnt                0.0  184025.00   1501.171686\n",
      "owner_hh_cnt                 0.0   48393.00    848.458243\n"
     ]
    }
   ],
   "source": [
    "print(soc.isna().sum().sort_values(ascending=False).head(10))\n",
    "print(soc.describe().T[['min','max','mean']])"
   ]
  },
  {
   "cell_type": "code",
   "execution_count": 11,
   "id": "9d6d06b7",
   "metadata": {},
   "outputs": [],
   "source": [
    "# soc.to_csv('clean_data/clean_Soc.csv', index =False)"
   ]
  },
  {
   "cell_type": "code",
   "execution_count": null,
   "id": "28fa8125",
   "metadata": {},
   "outputs": [],
   "source": []
  }
 ],
 "metadata": {
  "kernelspec": {
   "display_name": "base",
   "language": "python",
   "name": "python3"
  },
  "language_info": {
   "codemirror_mode": {
    "name": "ipython",
    "version": 3
   },
   "file_extension": ".py",
   "mimetype": "text/x-python",
   "name": "python",
   "nbconvert_exporter": "python",
   "pygments_lexer": "ipython3",
   "version": "3.9.7"
  }
 },
 "nbformat": 4,
 "nbformat_minor": 5
}
