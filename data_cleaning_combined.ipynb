{
 "cells": [
  {
   "cell_type": "markdown",
   "id": "a45b50e4",
   "metadata": {},
   "source": [
    "# Import Libraries and Read in Files"
   ]
  },
  {
   "cell_type": "code",
   "execution_count": 1,
   "id": "cdef8eb7",
   "metadata": {},
   "outputs": [
    {
     "name": "stderr",
     "output_type": "stream",
     "text": [
      "\n",
      "A module that was compiled using NumPy 1.x cannot be run in\n",
      "NumPy 2.0.2 as it may crash. To support both 1.x and 2.x\n",
      "versions of NumPy, modules must be compiled with NumPy 2.0.\n",
      "Some module may need to rebuild instead e.g. with 'pybind11>=2.12'.\n",
      "\n",
      "If you are a user of the module, the easiest solution will be to\n",
      "downgrade to 'numpy<2' or try to upgrade the affected module.\n",
      "We expect that some modules will need time to support NumPy 2.\n",
      "\n",
      "Traceback (most recent call last):  File \"c:\\Users\\a5636\\anaconda3\\lib\\runpy.py\", line 197, in _run_module_as_main\n",
      "    return _run_code(code, main_globals, None,\n",
      "  File \"c:\\Users\\a5636\\anaconda3\\lib\\runpy.py\", line 87, in _run_code\n",
      "    exec(code, run_globals)\n",
      "  File \"c:\\Users\\a5636\\anaconda3\\lib\\site-packages\\ipykernel_launcher.py\", line 16, in <module>\n",
      "    app.launch_new_instance()\n",
      "  File \"c:\\Users\\a5636\\anaconda3\\lib\\site-packages\\traitlets\\config\\application.py\", line 846, in launch_instance\n",
      "    app.start()\n",
      "  File \"c:\\Users\\a5636\\anaconda3\\lib\\site-packages\\ipykernel\\kernelapp.py\", line 677, in start\n",
      "    self.io_loop.start()\n",
      "  File \"c:\\Users\\a5636\\anaconda3\\lib\\site-packages\\tornado\\platform\\asyncio.py\", line 199, in start\n",
      "    self.asyncio_loop.run_forever()\n",
      "  File \"c:\\Users\\a5636\\anaconda3\\lib\\asyncio\\base_events.py\", line 596, in run_forever\n",
      "    self._run_once()\n",
      "  File \"c:\\Users\\a5636\\anaconda3\\lib\\asyncio\\base_events.py\", line 1890, in _run_once\n",
      "    handle._run()\n",
      "  File \"c:\\Users\\a5636\\anaconda3\\lib\\asyncio\\events.py\", line 80, in _run\n",
      "    self._context.run(self._callback, *self._args)\n",
      "  File \"c:\\Users\\a5636\\anaconda3\\lib\\site-packages\\ipykernel\\kernelbase.py\", line 457, in dispatch_queue\n",
      "    await self.process_one()\n",
      "  File \"c:\\Users\\a5636\\anaconda3\\lib\\site-packages\\ipykernel\\kernelbase.py\", line 446, in process_one\n",
      "    await dispatch(*args)\n",
      "  File \"c:\\Users\\a5636\\anaconda3\\lib\\site-packages\\ipykernel\\kernelbase.py\", line 353, in dispatch_shell\n",
      "    await result\n",
      "  File \"c:\\Users\\a5636\\anaconda3\\lib\\site-packages\\ipykernel\\kernelbase.py\", line 648, in execute_request\n",
      "    reply_content = await reply_content\n",
      "  File \"c:\\Users\\a5636\\anaconda3\\lib\\site-packages\\ipykernel\\ipkernel.py\", line 353, in do_execute\n",
      "    res = shell.run_cell(code, store_history=store_history, silent=silent)\n",
      "  File \"c:\\Users\\a5636\\anaconda3\\lib\\site-packages\\ipykernel\\zmqshell.py\", line 533, in run_cell\n",
      "    return super(ZMQInteractiveShell, self).run_cell(*args, **kwargs)\n",
      "  File \"c:\\Users\\a5636\\anaconda3\\lib\\site-packages\\IPython\\core\\interactiveshell.py\", line 2901, in run_cell\n",
      "    result = self._run_cell(\n",
      "  File \"c:\\Users\\a5636\\anaconda3\\lib\\site-packages\\IPython\\core\\interactiveshell.py\", line 2947, in _run_cell\n",
      "    return runner(coro)\n",
      "  File \"c:\\Users\\a5636\\anaconda3\\lib\\site-packages\\IPython\\core\\async_helpers.py\", line 68, in _pseudo_sync_runner\n",
      "    coro.send(None)\n",
      "  File \"c:\\Users\\a5636\\anaconda3\\lib\\site-packages\\IPython\\core\\interactiveshell.py\", line 3172, in run_cell_async\n",
      "    has_raised = await self.run_ast_nodes(code_ast.body, cell_name,\n",
      "  File \"c:\\Users\\a5636\\anaconda3\\lib\\site-packages\\IPython\\core\\interactiveshell.py\", line 3364, in run_ast_nodes\n",
      "    if (await self.run_code(code, result,  async_=asy)):\n",
      "  File \"c:\\Users\\a5636\\anaconda3\\lib\\site-packages\\IPython\\core\\interactiveshell.py\", line 3444, in run_code\n",
      "    exec(code_obj, self.user_global_ns, self.user_ns)\n",
      "  File \"C:\\Users\\a5636\\AppData\\Local\\Temp/ipykernel_21356/2162656668.py\", line 1, in <module>\n",
      "    import pandas as pd\n",
      "  File \"c:\\Users\\a5636\\anaconda3\\lib\\site-packages\\pandas\\__init__.py\", line 80, in <module>\n",
      "    from pandas.core.api import (\n",
      "  File \"c:\\Users\\a5636\\anaconda3\\lib\\site-packages\\pandas\\core\\api.py\", line 28, in <module>\n",
      "    from pandas.core.arrays import Categorical\n",
      "  File \"c:\\Users\\a5636\\anaconda3\\lib\\site-packages\\pandas\\core\\arrays\\__init__.py\", line 1, in <module>\n",
      "    from pandas.core.arrays.arrow import ArrowExtensionArray\n",
      "  File \"c:\\Users\\a5636\\anaconda3\\lib\\site-packages\\pandas\\core\\arrays\\arrow\\__init__.py\", line 5, in <module>\n",
      "    from pandas.core.arrays.arrow.array import ArrowExtensionArray\n",
      "  File \"c:\\Users\\a5636\\anaconda3\\lib\\site-packages\\pandas\\core\\arrays\\arrow\\array.py\", line 50, in <module>\n",
      "    from pandas.core import (\n",
      "  File \"c:\\Users\\a5636\\anaconda3\\lib\\site-packages\\pandas\\core\\ops\\__init__.py\", line 8, in <module>\n",
      "    from pandas.core.ops.array_ops import (\n",
      "  File \"c:\\Users\\a5636\\anaconda3\\lib\\site-packages\\pandas\\core\\ops\\array_ops.py\", line 56, in <module>\n",
      "    from pandas.core.computation import expressions\n",
      "  File \"c:\\Users\\a5636\\anaconda3\\lib\\site-packages\\pandas\\core\\computation\\expressions.py\", line 21, in <module>\n",
      "    from pandas.core.computation.check import NUMEXPR_INSTALLED\n",
      "  File \"c:\\Users\\a5636\\anaconda3\\lib\\site-packages\\pandas\\core\\computation\\check.py\", line 5, in <module>\n",
      "    ne = import_optional_dependency(\"numexpr\", errors=\"warn\")\n",
      "  File \"c:\\Users\\a5636\\anaconda3\\lib\\site-packages\\pandas\\compat\\_optional.py\", line 135, in import_optional_dependency\n",
      "    module = importlib.import_module(name)\n",
      "  File \"c:\\Users\\a5636\\anaconda3\\lib\\importlib\\__init__.py\", line 127, in import_module\n",
      "    return _bootstrap._gcd_import(name[level:], package, level)\n",
      "  File \"c:\\Users\\a5636\\anaconda3\\lib\\site-packages\\numexpr\\__init__.py\", line 26, in <module>\n",
      "    from numexpr.interpreter import MAX_THREADS, use_vml, __BLOCK_SIZE1__\n"
     ]
    },
    {
     "ename": "AttributeError",
     "evalue": "_ARRAY_API not found",
     "output_type": "error",
     "traceback": [
      "\u001b[1;31m---------------------------------------------------------------------------\u001b[0m",
      "\u001b[1;31mAttributeError\u001b[0m                            Traceback (most recent call last)",
      "\u001b[1;31mAttributeError\u001b[0m: _ARRAY_API not found"
     ]
    },
    {
     "name": "stderr",
     "output_type": "stream",
     "text": [
      "\n",
      "A module that was compiled using NumPy 1.x cannot be run in\n",
      "NumPy 2.0.2 as it may crash. To support both 1.x and 2.x\n",
      "versions of NumPy, modules must be compiled with NumPy 2.0.\n",
      "Some module may need to rebuild instead e.g. with 'pybind11>=2.12'.\n",
      "\n",
      "If you are a user of the module, the easiest solution will be to\n",
      "downgrade to 'numpy<2' or try to upgrade the affected module.\n",
      "We expect that some modules will need time to support NumPy 2.\n",
      "\n",
      "Traceback (most recent call last):  File \"c:\\Users\\a5636\\anaconda3\\lib\\runpy.py\", line 197, in _run_module_as_main\n",
      "    return _run_code(code, main_globals, None,\n",
      "  File \"c:\\Users\\a5636\\anaconda3\\lib\\runpy.py\", line 87, in _run_code\n",
      "    exec(code, run_globals)\n",
      "  File \"c:\\Users\\a5636\\anaconda3\\lib\\site-packages\\ipykernel_launcher.py\", line 16, in <module>\n",
      "    app.launch_new_instance()\n",
      "  File \"c:\\Users\\a5636\\anaconda3\\lib\\site-packages\\traitlets\\config\\application.py\", line 846, in launch_instance\n",
      "    app.start()\n",
      "  File \"c:\\Users\\a5636\\anaconda3\\lib\\site-packages\\ipykernel\\kernelapp.py\", line 677, in start\n",
      "    self.io_loop.start()\n",
      "  File \"c:\\Users\\a5636\\anaconda3\\lib\\site-packages\\tornado\\platform\\asyncio.py\", line 199, in start\n",
      "    self.asyncio_loop.run_forever()\n",
      "  File \"c:\\Users\\a5636\\anaconda3\\lib\\asyncio\\base_events.py\", line 596, in run_forever\n",
      "    self._run_once()\n",
      "  File \"c:\\Users\\a5636\\anaconda3\\lib\\asyncio\\base_events.py\", line 1890, in _run_once\n",
      "    handle._run()\n",
      "  File \"c:\\Users\\a5636\\anaconda3\\lib\\asyncio\\events.py\", line 80, in _run\n",
      "    self._context.run(self._callback, *self._args)\n",
      "  File \"c:\\Users\\a5636\\anaconda3\\lib\\site-packages\\ipykernel\\kernelbase.py\", line 457, in dispatch_queue\n",
      "    await self.process_one()\n",
      "  File \"c:\\Users\\a5636\\anaconda3\\lib\\site-packages\\ipykernel\\kernelbase.py\", line 446, in process_one\n",
      "    await dispatch(*args)\n",
      "  File \"c:\\Users\\a5636\\anaconda3\\lib\\site-packages\\ipykernel\\kernelbase.py\", line 353, in dispatch_shell\n",
      "    await result\n",
      "  File \"c:\\Users\\a5636\\anaconda3\\lib\\site-packages\\ipykernel\\kernelbase.py\", line 648, in execute_request\n",
      "    reply_content = await reply_content\n",
      "  File \"c:\\Users\\a5636\\anaconda3\\lib\\site-packages\\ipykernel\\ipkernel.py\", line 353, in do_execute\n",
      "    res = shell.run_cell(code, store_history=store_history, silent=silent)\n",
      "  File \"c:\\Users\\a5636\\anaconda3\\lib\\site-packages\\ipykernel\\zmqshell.py\", line 533, in run_cell\n",
      "    return super(ZMQInteractiveShell, self).run_cell(*args, **kwargs)\n",
      "  File \"c:\\Users\\a5636\\anaconda3\\lib\\site-packages\\IPython\\core\\interactiveshell.py\", line 2901, in run_cell\n",
      "    result = self._run_cell(\n",
      "  File \"c:\\Users\\a5636\\anaconda3\\lib\\site-packages\\IPython\\core\\interactiveshell.py\", line 2947, in _run_cell\n",
      "    return runner(coro)\n",
      "  File \"c:\\Users\\a5636\\anaconda3\\lib\\site-packages\\IPython\\core\\async_helpers.py\", line 68, in _pseudo_sync_runner\n",
      "    coro.send(None)\n",
      "  File \"c:\\Users\\a5636\\anaconda3\\lib\\site-packages\\IPython\\core\\interactiveshell.py\", line 3172, in run_cell_async\n",
      "    has_raised = await self.run_ast_nodes(code_ast.body, cell_name,\n",
      "  File \"c:\\Users\\a5636\\anaconda3\\lib\\site-packages\\IPython\\core\\interactiveshell.py\", line 3364, in run_ast_nodes\n",
      "    if (await self.run_code(code, result,  async_=asy)):\n",
      "  File \"c:\\Users\\a5636\\anaconda3\\lib\\site-packages\\IPython\\core\\interactiveshell.py\", line 3444, in run_code\n",
      "    exec(code_obj, self.user_global_ns, self.user_ns)\n",
      "  File \"C:\\Users\\a5636\\AppData\\Local\\Temp/ipykernel_21356/2162656668.py\", line 1, in <module>\n",
      "    import pandas as pd\n",
      "  File \"c:\\Users\\a5636\\anaconda3\\lib\\site-packages\\pandas\\__init__.py\", line 80, in <module>\n",
      "    from pandas.core.api import (\n",
      "  File \"c:\\Users\\a5636\\anaconda3\\lib\\site-packages\\pandas\\core\\api.py\", line 28, in <module>\n",
      "    from pandas.core.arrays import Categorical\n",
      "  File \"c:\\Users\\a5636\\anaconda3\\lib\\site-packages\\pandas\\core\\arrays\\__init__.py\", line 1, in <module>\n",
      "    from pandas.core.arrays.arrow import ArrowExtensionArray\n",
      "  File \"c:\\Users\\a5636\\anaconda3\\lib\\site-packages\\pandas\\core\\arrays\\arrow\\__init__.py\", line 5, in <module>\n",
      "    from pandas.core.arrays.arrow.array import ArrowExtensionArray\n",
      "  File \"c:\\Users\\a5636\\anaconda3\\lib\\site-packages\\pandas\\core\\arrays\\arrow\\array.py\", line 64, in <module>\n",
      "    from pandas.core.arrays.masked import BaseMaskedArray\n",
      "  File \"c:\\Users\\a5636\\anaconda3\\lib\\site-packages\\pandas\\core\\arrays\\masked.py\", line 60, in <module>\n",
      "    from pandas.core import (\n",
      "  File \"c:\\Users\\a5636\\anaconda3\\lib\\site-packages\\pandas\\core\\nanops.py\", line 52, in <module>\n",
      "    bn = import_optional_dependency(\"bottleneck\", errors=\"warn\")\n",
      "  File \"c:\\Users\\a5636\\anaconda3\\lib\\site-packages\\pandas\\compat\\_optional.py\", line 135, in import_optional_dependency\n",
      "    module = importlib.import_module(name)\n",
      "  File \"c:\\Users\\a5636\\anaconda3\\lib\\importlib\\__init__.py\", line 127, in import_module\n",
      "    return _bootstrap._gcd_import(name[level:], package, level)\n",
      "  File \"c:\\Users\\a5636\\anaconda3\\lib\\site-packages\\bottleneck\\__init__.py\", line 2, in <module>\n",
      "    from .reduce import (\n"
     ]
    },
    {
     "ename": "AttributeError",
     "evalue": "_ARRAY_API not found",
     "output_type": "error",
     "traceback": [
      "\u001b[1;31m---------------------------------------------------------------------------\u001b[0m",
      "\u001b[1;31mAttributeError\u001b[0m                            Traceback (most recent call last)",
      "\u001b[1;31mAttributeError\u001b[0m: _ARRAY_API not found"
     ]
    }
   ],
   "source": [
    "import pandas as pd\n",
    "import numpy as np"
   ]
  },
  {
   "cell_type": "markdown",
   "id": "822c652f",
   "metadata": {},
   "source": [
    "# Cleaning Comprehensive Housing Affordability Strategy (CHAS) Dataset"
   ]
  },
  {
   "cell_type": "code",
   "execution_count": null,
   "id": "0ba7d2d9",
   "metadata": {},
   "outputs": [],
   "source": [
    "chas = pd.read_csv('assets/ACS_5YR_CHAS_Estimate_Data_by_County_-4190529618979970776.csv')\n",
    "chas.shape"
   ]
  },
  {
   "cell_type": "code",
   "execution_count": null,
   "id": "8f82b2f4",
   "metadata": {},
   "outputs": [],
   "source": [
    "# After reading the data dictionary, these are the columns I found to be most relevant to our work\n",
    "\n",
    "# We use this to join data\n",
    "# GEOID - Geographic Identifier - fully concatenated geographic code (State FIPS and County FIPS)\n",
    "# STATE - Census 2-digit FIPS State Code\n",
    "# COUNTY - 3-digit County FIPS code\n",
    "# NAME - COUNTY NAME\n",
    "\n",
    "# T2_EST1 - Total Households\n",
    "\n",
    "# Cost-burden county by Department of house and urban Development(HUD)\n",
    "# T8_EST69 , T8_EST82, T8_EST95 , T8_EST108 - Contain cost-burdened household for =< 30% , 30-50% ,50-80% and all \n",
    "\n",
    "# already made percentage \n",
    "# T8_CB_PCT - Percent of all households with cost burden over 30% \n",
    "# T8_CB50_PCT - Percent of all households with cost burden over 30%\n",
    "# T8_LE30_CB_PCT, T8 LE30_CB50_PCT - Percent of extremely low income households (household income less than or equal to 30% HAMFI) with cost burden over 30%\n",
    "# T8_LE50_CB_PCT, T8_LE50_CB50_PCT\n",
    "# T8_LE80_CB_PCT, T8_LE80_CB_50_PCT \n",
    "\n",
    "# renter / owner break-outs - to see who's hurting\n",
    "# T7_SF_CB_R - Renter occupied AND household type is small family (2 persons, neither person 62 years or over, or 3 or 4 persons) AND housing cost burden is greater than 30%\n",
    "#  T7_LF_CB_R  - Renter occupied AND household type is large family (5 or more persons) AND housing cost burden is greater than 30%\n",
    "# T7_SF_CB_O - Owner occupied AND household type is small family (2 persons, neither person 62 years or over, or 3 or 4 persons) AND housing cost burden is greater than 30%\n",
    "#  T7_LF_CB_O - Owner occupied AND household type is large family (5 or more persons) AND housing cost burden is greater than 30%\n",
    "\n",
    "\n",
    "columns_to_keep = [\n",
    "    \"GEOID\", \"STATE\", \"COUNTY\", \"NAME\",\n",
    "    \"T2_EST1\",        \n",
    "    \"T8_EST69\",      \n",
    "    \"T8_EST82\",           \n",
    "    \"T8_EST95\",         \n",
    "    \"T8_EST108\",    \n",
    "    \"T8_LE30_CB_PCT\", \"T8_LE30_CB50_PCT\",\n",
    "    \"T8_LE50_CB_PCT\", \"T8_LE50_CB50_PCT\",\n",
    "    \"T8_LE80_CB_PCT\", \"T8_LE80_CB50_PCT\",\n",
    "    \"T8_CB_PCT\", \"T8_CB50_PCT\",\n",
    "    \"T7_SF_CB_R\", \"T7_LF_CB_R\", \"T7_SF_CB_O\", \"T7_LF_CB_O\",\n",
    "]\n",
    "chas = chas[columns_to_keep].copy()\n"
   ]
  },
  {
   "cell_type": "code",
   "execution_count": null,
   "id": "c795e625",
   "metadata": {},
   "outputs": [],
   "source": [
    "#check for missing value\n",
    "subset = chas[columns_to_keep]\n",
    "missing_counts   = subset.isna().sum()   \n",
    "\n",
    "missing_counts"
   ]
  },
  {
   "cell_type": "code",
   "execution_count": null,
   "id": "a462ffe0",
   "metadata": {},
   "outputs": [],
   "source": [
    "colums_renames = {\n",
    "\n",
    "    \"GEOID\"        : \"GEOID\",\n",
    "    \"STATE\"        : \"STATE\",\n",
    "    \"COUNTY\"       : \"COUNTY\",\n",
    "    \"NAME\"         : \"NAME\",\n",
    "\n",
    "    \"T2_EST1\"      : \"total_households\",\n",
    "    \"T8_EST69\"     : \"cost_burdened_households_leq_30_percent\",\n",
    "    \"T8_EST82\"     : \"cost_burdened_households_30_to_50_percent\",\n",
    "    \"T8_EST95\"     : \"cost_burdened_households_50_to_80_percent\",\n",
    "    \"T8_EST108\"    : \"cost_burdened_households_all_income_levels_count\",\n",
    "\n",
    "    \"T8_CB_PCT\"        : \"Percent_of_all_with_cb_over30_percent\",\n",
    "    \"T8_CB50_PCT\"      : \"Percent_of_all_with_cb_over50_percent\",\n",
    "    \n",
    "    \"T8_LE30_CB_PCT\"   : \"Percent_of_low_income_cb_over30_percent\",\n",
    "    \"T8_LE30_CB50_PCT\" : \"Percent_of_low_income_cb_over50_percent\",\n",
    "\n",
    "    \"T8_LE50_CB_PCT\"   : \"Percent_of_medi_income_cb_over30_percent\",\n",
    "    \"T8_LE50_CB50_PCT\" : \"Percent_of_medi_income_cb_over50_percent\",\n",
    "\n",
    "    \"T8_LE80_CB_PCT\"   : \"Percent_of_high_income_cb_over30_percent\",\n",
    "    \"T8_LE80_CB50_PCT\" : \"Percent_of_high_income_cb_over50_percent\",\n",
    "\n",
    "    \"T7_SF_CB_R\"   : \"Percent_renter_small_family_count_cb_over30\",\n",
    "    \"T7_LF_CB_R\"   : \"Percent_renter_large_family_count_cb_over50\",\n",
    "    \"T7_SF_CB_O\"   : \"Percent_owner_small_family_count_cb_over30\",\n",
    "    \"T7_LF_CB_O\"   : \"Percent_owner_large_family_count_cb_over50\",\n",
    "}\n",
    "\n",
    "chas.rename(columns= colums_renames, inplace=True)"
   ]
  },
  {
   "cell_type": "code",
   "execution_count": null,
   "id": "b3f6da97",
   "metadata": {},
   "outputs": [],
   "source": [
    "print(chas.isna().sum().sort_values(ascending=False).head(10))\n",
    "print(chas.describe().T[['min','max','mean']])"
   ]
  },
  {
   "cell_type": "code",
   "execution_count": null,
   "id": "cf581df6",
   "metadata": {},
   "outputs": [],
   "source": [
    "chas.to_csv('clean_data/clean_chas.csv', index= False)"
   ]
  },
  {
   "cell_type": "markdown",
   "id": "ab81c409",
   "metadata": {},
   "source": [
    "# Cleaning Socioeconomic Estimate Dataset"
   ]
  },
  {
   "cell_type": "code",
   "execution_count": null,
   "id": "73f08444",
   "metadata": {},
   "outputs": [],
   "source": [
    "soc = pd.read_csv('assets/ACS_5YR_Socioeconomic_Estimate_Data_by_County_-8265857031681572420.csv')\n",
    "soc.shape"
   ]
  },
  {
   "cell_type": "code",
   "execution_count": null,
   "id": "7b895092",
   "metadata": {},
   "outputs": [],
   "source": [
    "soc.columns"
   ]
  },
  {
   "cell_type": "code",
   "execution_count": null,
   "id": "72805c91",
   "metadata": {},
   "outputs": [],
   "source": [
    "# After reading the data dictionary, I found that these columns are most relevant to our work\n",
    "\n",
    "# 4 Primary key  'GEOID', 'STATE',  'COUNTY', 'NAME'\n",
    "\n",
    "# Household information - - ability to pay \n",
    "# 'B19013EST1' = household income/poverty   \n",
    "# 'B19113EST1' = family income \n",
    "# 'B19202EST1' = median single income\n",
    "\n",
    "# 'B17021EST2_PCT' = POVERTY RATE\n",
    "# 'B23001_UE_PCT' = unempolyment rate\n",
    "\n",
    "\n",
    "# 'B25106_CB_LT35' = cost-burdened < 35%\n",
    "# 'B25106_CB_GT35' - cost-burdened >= 35%\n",
    "\n",
    "# 'B25014_CROWD_PCT' = households with more than 1 person or room\n",
    "\n",
    "# 'B17019_RENT' =  Renter-occupied \n",
    "# 'B17019_OWN'  =  Owner-occupied \n",
    "\n"
   ]
  },
  {
   "cell_type": "code",
   "execution_count": null,
   "id": "ea5c5218",
   "metadata": {},
   "outputs": [],
   "source": [
    "rename_soc = {\n",
    "    'B19013EST1':'median_household_income',\n",
    "    'B19113EST1':'median_family_income',\n",
    "    'B19202EST1':'median_nonfamily_income',\n",
    "    'B17021EST2_PCT':'poverty_rate_pct',\n",
    "    'B23001_UE_PCT':'unemployment_rate_pct',\n",
    "    'B25106_CB_R_LT35':'renters_cb_lt35_cnt',\n",
    "    'B25106_CB_R_GT35':'renters_cb_ge35_cnt',\n",
    "    'B25106_CB_O_LT35':'owners_cb_lt35_cnt',\n",
    "    'B25106_CB_O_GT35':'owners_cb_ge35_cnt',\n",
    "    'B25014_CROWD_PCT':'crowded_hh_pct',\n",
    "    'B17019_RENT':'renter_hh_cnt',\n",
    "    'B17019_OWN':'owner_hh_cnt'\n",
    "}\n",
    "\n",
    "\n",
    "needed = ['GEOID','STATE','COUNTY','NAME', *rename_soc.keys()]\n",
    "soc = soc[needed].rename(columns=rename_soc)\n"
   ]
  },
  {
   "cell_type": "code",
   "execution_count": null,
   "id": "7a3193a2",
   "metadata": {},
   "outputs": [],
   "source": [
    "columns_soc = [\n",
    "    'GEOID','STATE','COUNTY','NAME',\n",
    "    'median_household_income',\n",
    "    'median_family_income',\n",
    "    'median_nonfamily_income',\n",
    "    'poverty_rate_pct',\n",
    "    'unemployment_rate_pct',\n",
    "    'renters_cb_lt35_cnt',\n",
    "    'renters_cb_ge35_cnt',\n",
    "    'owners_cb_lt35_cnt',\n",
    "    'owners_cb_ge35_cnt',\n",
    "    'crowded_hh_pct',\n",
    "    'renter_hh_cnt',\n",
    "    'owner_hh_cnt'\n",
    "]\n",
    "\n",
    "subset = soc[columns_soc]\n",
    "missing_counts = subset.isna().sum()   \n",
    "\n",
    "missing_counts\n",
    "# Result show there are 13 missing row on the median_nonfamily_income\n",
    "# As this is <1% of the data, it won't impact much of the analysis if we leave it in"
   ]
  },
  {
   "cell_type": "code",
   "execution_count": null,
   "id": "54466bdf",
   "metadata": {},
   "outputs": [],
   "source": [
    "print(soc.isna().sum().sort_values(ascending=False).head(10))\n",
    "print(soc.describe().T[['min','max','mean']])"
   ]
  },
  {
   "cell_type": "code",
   "execution_count": null,
   "id": "44d10df1",
   "metadata": {},
   "outputs": [],
   "source": [
    "soc.to_csv('clean_data/clean_Soc.csv', index =False)"
   ]
  },
  {
   "cell_type": "markdown",
   "id": "073c6adb",
   "metadata": {},
   "source": [
    "# Merge CHAS and Socioeconomic Estimate Dataset"
   ]
  },
  {
   "cell_type": "code",
   "execution_count": null,
   "id": "7769e99f",
   "metadata": {},
   "outputs": [],
   "source": [
    "chas = pd.read_csv('clean_data/clean_chas.csv', dtype = {'GEOID':'string'})\n",
    "soc = pd.read_csv('clean_data/clean_Soc.csv', dtype = {'GEOID':'string','STATE':'string', 'COUNTY':'string'})"
   ]
  },
  {
   "cell_type": "code",
   "execution_count": null,
   "id": "666086df",
   "metadata": {},
   "outputs": [],
   "source": [
    "soc_chas = (\n",
    "    chas.merge(soc, on='GEOID', how='left', validate='one_to_one')\n",
    "        .astype({'STATE_x':'string'})  \n",
    "        .drop(columns=['STATE_y','COUNTY_y','NAME_y'])\n",
    "        .rename(columns={'STATE_x':'STATE','COUNTY_x':'COUNTY','NAME_x':'NAME'})\n",
    ")\n",
    "soc_chas"
   ]
  },
  {
   "cell_type": "code",
   "execution_count": null,
   "id": "19b89d82",
   "metadata": {},
   "outputs": [],
   "source": [
    "print(soc_chas.isna().sum().sort_values(ascending=False))"
   ]
  },
  {
   "cell_type": "markdown",
   "id": "96f2f7a7",
   "metadata": {},
   "source": [
    "# Clean Redfin Dataset"
   ]
  },
  {
   "cell_type": "code",
   "execution_count": null,
   "id": "359b5342",
   "metadata": {},
   "outputs": [],
   "source": [
    "redfin_county_data = pd.read_csv('assets\\county_market_tracker.tsv000.gz', sep=\"\\t\", header=0, dtype=str)"
   ]
  },
  {
   "cell_type": "code",
   "execution_count": null,
   "id": "d215fb27",
   "metadata": {},
   "outputs": [],
   "source": [
    "redfin_county_data['PERIOD_BEGIN'] = pd.to_datetime(redfin_county_data['PERIOD_BEGIN'])\n",
    "redfin_county_data['PERIOD_END'] = pd.to_datetime(redfin_county_data['PERIOD_END'])\n",
    "redfin_county_data['MEDIAN_SALE_PRICE'] = redfin_county_data['MEDIAN_SALE_PRICE'].astype('float')\n",
    "redfin_county_data['MEDIAN_LIST_PRICE'] = redfin_county_data['MEDIAN_LIST_PRICE'].astype('float')"
   ]
  },
  {
   "cell_type": "code",
   "execution_count": null,
   "id": "87d7ff6b",
   "metadata": {},
   "outputs": [],
   "source": [
    "redfin_county_data.head()"
   ]
  },
  {
   "cell_type": "code",
   "execution_count": null,
   "id": "a92b1a41",
   "metadata": {},
   "outputs": [],
   "source": [
    "redfin_county_data_2016_2020 = redfin_county_data[(redfin_county_data['PERIOD_BEGIN'] >= '2016-01-01') & (redfin_county_data['PERIOD_BEGIN'] <= '2020-12-31')].copy()"
   ]
  },
  {
   "cell_type": "code",
   "execution_count": null,
   "id": "0b936e91",
   "metadata": {},
   "outputs": [],
   "source": [
    "def extract_county_name(row): \n",
    "    full_county_name = row['REGION']\n",
    "    if \"County\" in full_county_name: \n",
    "        return full_county_name.split(\" County\")[0]\n",
    "    else: \n",
    "        return full_county_name.split(\" Parish\")[0]"
   ]
  },
  {
   "cell_type": "code",
   "execution_count": null,
   "id": "94dc3561",
   "metadata": {},
   "outputs": [],
   "source": [
    "redfin_county_data_2016_2020['COUNTY_NAME'] = redfin_county_data_2016_2020.apply(func=extract_county_name, axis=1)"
   ]
  },
  {
   "cell_type": "code",
   "execution_count": null,
   "id": "a59d4e80",
   "metadata": {},
   "outputs": [],
   "source": [
    "redfin_county_data_2016_2020['COUNTY_NAME']"
   ]
  },
  {
   "cell_type": "code",
   "execution_count": null,
   "id": "dcde0249",
   "metadata": {},
   "outputs": [],
   "source": [
    "redfin_county_data_2016_2020.columns"
   ]
  },
  {
   "cell_type": "code",
   "execution_count": null,
   "id": "7cae0614",
   "metadata": {},
   "outputs": [],
   "source": [
    "columns_to_keep = ['PERIOD_BEGIN', 'PERIOD_END', 'COUNTY_NAME', 'STATE', 'STATE_CODE', 'MEDIAN_SALE_PRICE', 'MEDIAN_LIST_PRICE']"
   ]
  },
  {
   "cell_type": "code",
   "execution_count": null,
   "id": "11073d47",
   "metadata": {},
   "outputs": [],
   "source": [
    "redfin_data = redfin_county_data_2016_2020[columns_to_keep].copy()"
   ]
  },
  {
   "cell_type": "code",
   "execution_count": null,
   "id": "9e5a310d",
   "metadata": {},
   "outputs": [],
   "source": [
    "# redfin_data.to_csv('clean_data/clean_redfin.csv', index = False)\n"
   ]
  },
  {
   "cell_type": "markdown",
   "id": "6f44fd48",
   "metadata": {},
   "source": [
    "# Matching to FIPS Code"
   ]
  },
  {
   "cell_type": "code",
   "execution_count": null,
   "id": "bef29959",
   "metadata": {},
   "outputs": [],
   "source": [
    "fips = pd.read_csv('assets\\State__County_and_City_FIPS_Reference_Table_20250602.csv')"
   ]
  },
  {
   "cell_type": "code",
   "execution_count": null,
   "id": "346564dd",
   "metadata": {},
   "outputs": [],
   "source": [
    "fips.dropna(inplace=True)\n",
    "fips.drop_duplicates(subset=['State Name', 'County Name', 'State Code', 'County Code', 'StCnty FIPS Code' ], keep='first', inplace=True)\n",
    "fips.drop(labels=['City Name', 'City Code', 'StCntyCity FIPS Code'], axis=1, inplace=True)"
   ]
  },
  {
   "cell_type": "code",
   "execution_count": null,
   "id": "ff3fa57e",
   "metadata": {},
   "outputs": [],
   "source": [
    "fips['StCnty FIPS Code'] = fips['StCnty FIPS Code'].astype('int')"
   ]
  },
  {
   "cell_type": "code",
   "execution_count": null,
   "id": "0a9273bc",
   "metadata": {},
   "outputs": [],
   "source": [
    "soc_chas['GEOID'] = soc_chas['GEOID'].astype('int')"
   ]
  },
  {
   "cell_type": "code",
   "execution_count": null,
   "id": "ef24f5f8",
   "metadata": {},
   "outputs": [],
   "source": [
    "soc_chas.merge(right=fips, left_on='GEOID', right_on = 'StCnty FIPS Code', how='left')"
   ]
  },
  {
   "cell_type": "code",
   "execution_count": null,
   "id": "eb180e8f",
   "metadata": {},
   "outputs": [],
   "source": [
    "redfin_data['COUNTY_NAME']"
   ]
  },
  {
   "cell_type": "code",
   "execution_count": null,
   "id": "3ebeb322",
   "metadata": {},
   "outputs": [],
   "source": [
    "redfin_data['COUNTY_NAME'] = redfin_data['COUNTY_NAME'].str.upper()"
   ]
  },
  {
   "cell_type": "code",
   "execution_count": null,
   "id": "866e3085",
   "metadata": {},
   "outputs": [],
   "source": [
    "fips.columns"
   ]
  },
  {
   "cell_type": "code",
   "execution_count": null,
   "id": "c19d6b6f",
   "metadata": {},
   "outputs": [],
   "source": [
    "redfin_data_with_fips = redfin_data.merge(right=fips, left_on=['COUNTY_NAME', 'STATE_CODE'], right_on=['County Name', 'State Code'])"
   ]
  },
  {
   "cell_type": "code",
   "execution_count": null,
   "id": "b631ef10",
   "metadata": {},
   "outputs": [],
   "source": [
    "redfin_data_with_fips.columns"
   ]
  },
  {
   "cell_type": "code",
   "execution_count": null,
   "id": "4c3dfad3",
   "metadata": {},
   "outputs": [],
   "source": [
    "soc_chas_redfin = soc_chas.merge(right=redfin_data_with_fips, left_on='GEOID', right_on= 'StCnty FIPS Code')"
   ]
  },
  {
   "cell_type": "code",
   "execution_count": null,
   "id": "cf48177e",
   "metadata": {},
   "outputs": [],
   "source": [
    "soc_chas_redfin.to_csv('clean_data/soc_chas_redfin.csv', index = False)\n"
   ]
  },
  {
   "cell_type": "code",
   "execution_count": null,
   "id": "27ab5df9",
   "metadata": {},
   "outputs": [],
   "source": [
    "soc_chas_redfin.columns"
   ]
  },
  {
   "cell_type": "code",
   "execution_count": 2,
   "id": "317c6cc3",
   "metadata": {},
   "outputs": [],
   "source": [
    "import zipfile\n",
    "import plotly.express as px\n",
    "import json\n",
    "import requests\n",
    "import io\n",
    "import geopandas as gpd\n",
    "from us import states \n",
    "\n",
    "zip_path   = \"clean_data\\soc_chas_redfin.zip\"\n",
    "csv_inside = \"soc_chas_redfin.csv\""
   ]
  },
  {
   "cell_type": "code",
   "execution_count": 3,
   "id": "57f4e436",
   "metadata": {},
   "outputs": [],
   "source": [
    "with zipfile.ZipFile(zip_path) as z:\n",
    "    with z.open(csv_inside) as f:\n",
    "        merged = pd.read_csv(f)\n",
    "\n",
    "merged[\"COUNTY_FIPS\"] = merged[\"GEOID\"].astype(str).str.zfill(5)"
   ]
  },
  {
   "cell_type": "code",
   "execution_count": null,
   "id": "0b1ee4f0",
   "metadata": {},
   "outputs": [],
   "source": []
  },
  {
   "cell_type": "code",
   "execution_count": null,
   "id": "047ab8bc",
   "metadata": {},
   "outputs": [],
   "source": [
    "with zipfile.ZipFile(zip_path) as z:\n",
    "    with z.open(csv_inside) as f:\n",
    "        merged = pd.read_csv(f)\n",
    "\n"
   ]
  },
  {
   "cell_type": "code",
   "execution_count": null,
   "id": "7767ab85",
   "metadata": {},
   "outputs": [],
   "source": [
    "# Ensure 5-digit string FIPS for mapping\n",
    "merged[\"COUNTY_FIPS\"] = merged[\"GEOID\"].astype(str).str.zfill(5)\n",
    "\n",
    "numeric_cols = [\n",
    "    \"MEDIAN_SALE_PRICE\",\n",
    "    \"median_household_income\",\n",
    "    \"poverty_rate_pct\",\n",
    "    \"unemployment_rate_pct\",\n",
    "    \"Percent_of_low_income_cb_over30_percent\",\n",
    "    \"Percent_of_low_income_cb_over50_percent\",\n",
    "    \"Percent_of_medi_income_cb_over30_percent\",\n",
    "    \"Percent_of_medi_income_cb_over50_percent\",\n",
    "]\n",
    "merged[numeric_cols] = merged[numeric_cols].apply(pd.to_numeric, errors=\"coerce\")\n",
    "\n",
    "geojson_url = (\n",
    "    \"https://raw.githubusercontent.com/plotly/datasets/master/\"\n",
    "    \"geojson-counties-fips.json\"\n",
    ")\n",
    "counties_geojson = requests.get(geojson_url).json()\n",
    "\n",
    "afford_cols = {\n",
    "    \"MEDIAN_SALE_PRICE\"                       : \"$,.0f\",\n",
    "    \"median_household_income\"                 : \"$,.0f\",\n",
    "    \"poverty_rate_pct\"                        : \".2f\",\n",
    "    \"unemployment_rate_pct\"                   : \".2f\",\n",
    "    \"Percent_of_low_income_cb_over30_percent\" : \".2f\",\n",
    "    \"Percent_of_low_income_cb_over50_percent\" : \".2f\",\n",
    "    \"Percent_of_medi_income_cb_over30_percent\": \".2f\",\n",
    "    \"Percent_of_medi_income_cb_over50_percent\": \".2f\",\n",
    "}\n",
    "hover_dict = {c: f\":{fmt}\" for c, fmt in afford_cols.items()}\n",
    "hover_dict.update({\"NAME\": True, \"STATE_CODE\": True})  \n",
    "\n",
    "fig = px.choropleth(\n",
    "    merged,\n",
    "    geojson=counties_geojson,\n",
    "    locations=\"COUNTY_FIPS\",\n",
    "    color=\"MEDIAN_SALE_PRICE\",\n",
    "    color_continuous_scale=\"Viridis\",\n",
    "    range_color=(\n",
    "        merged[\"MEDIAN_SALE_PRICE\"].min(),\n",
    "        merged[\"MEDIAN_SALE_PRICE\"].quantile(0.95),\n",
    "    ),\n",
    "    scope=\"usa\",\n",
    "    hover_data=hover_dict,\n",
    ")\n",
    "\n",
    "fig.update_geos(fitbounds=\"locations\", visible=False)\n",
    "fig.update_layout(\n",
    "    title_text=\"Average 2016–20 Redfin Median Sale Price by County\",\n",
    "    margin=dict(r=0, t=40, l=0, b=0),\n",
    "    coloraxis_colorbar_title=\"\",\n",
    ")\n",
    "\n",
    "fig.show()"
   ]
  },
  {
   "cell_type": "code",
   "execution_count": null,
   "id": "290f82d2",
   "metadata": {},
   "outputs": [],
   "source": []
  }
 ],
 "metadata": {
  "kernelspec": {
   "display_name": "base",
   "language": "python",
   "name": "python3"
  },
  "language_info": {
   "codemirror_mode": {
    "name": "ipython",
    "version": 3
   },
   "file_extension": ".py",
   "mimetype": "text/x-python",
   "name": "python",
   "nbconvert_exporter": "python",
   "pygments_lexer": "ipython3",
   "version": "3.9.7"
  }
 },
 "nbformat": 4,
 "nbformat_minor": 5
}
