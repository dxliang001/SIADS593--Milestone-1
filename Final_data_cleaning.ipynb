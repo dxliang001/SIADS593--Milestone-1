{
 "cells": [
  {
   "cell_type": "markdown",
   "id": "a45b50e4",
   "metadata": {},
   "source": [
    "# Import Libraries and Read in Files"
   ]
  },
  {
   "cell_type": "code",
   "execution_count": 2,
   "id": "cdef8eb7",
   "metadata": {},
   "outputs": [],
   "source": [
    "import pandas as pd\n",
    "import numpy as np"
   ]
  },
  {
   "cell_type": "markdown",
   "id": "822c652f",
   "metadata": {},
   "source": [
    "# Cleaning Comprehensive Housing Affordability Strategy (CHAS) Dataset"
   ]
  },
  {
   "cell_type": "code",
   "execution_count": 3,
   "id": "0ba7d2d9",
   "metadata": {},
   "outputs": [
    {
     "data": {
      "text/plain": [
       "(3221, 408)"
      ]
     },
     "execution_count": 3,
     "metadata": {},
     "output_type": "execute_result"
    }
   ],
   "source": [
    "chas = pd.read_csv('assets/ACS_5YR_CHAS_Estimate_Data_by_County_-4190529618979970776.csv')\n",
    "chas.shape"
   ]
  },
  {
   "cell_type": "code",
   "execution_count": 4,
   "id": "8f82b2f4",
   "metadata": {},
   "outputs": [],
   "source": [
    "# After reading the data dictionary, these are the columns I found to be most relevant to our work\n",
    "\n",
    "# We use this to join data\n",
    "# GEOID - Geographic Identifier - fully concatenated geographic code (State FIPS and County FIPS)\n",
    "# STATE - Census 2-digit FIPS State Code\n",
    "# COUNTY - 3-digit County FIPS code\n",
    "# NAME - COUNTY NAME\n",
    "\n",
    "# T2_EST1 - Total Households\n",
    "\n",
    "# Cost-burden county by Department of house and urban Development(HUD)\n",
    "# T8_EST69 , T8_EST82, T8_EST95 , T8_EST108 - Contain cost-burdened household for =< 30% , 30-50% ,50-80% and all \n",
    "\n",
    "# already made percentage \n",
    "# T8_CB_PCT - Percent of all households with cost burden over 30% \n",
    "# T8_CB50_PCT - Percent of all households with cost burden over 30%\n",
    "# T8_LE30_CB_PCT, T8 LE30_CB50_PCT - Percent of extremely low income households (household income less than or equal to 30% HAMFI) with cost burden over 30%\n",
    "# T8_LE50_CB_PCT, T8_LE50_CB50_PCT\n",
    "# T8_LE80_CB_PCT, T8_LE80_CB_50_PCT \n",
    "\n",
    "# renter / owner break-outs - to see who's hurting\n",
    "# T7_SF_CB_R - Renter occupied AND household type is small family (2 persons, neither person 62 years or over, or 3 or 4 persons) AND housing cost burden is greater than 30%\n",
    "#  T7_LF_CB_R  - Renter occupied AND household type is large family (5 or more persons) AND housing cost burden is greater than 30%\n",
    "# T7_SF_CB_O - Owner occupied AND household type is small family (2 persons, neither person 62 years or over, or 3 or 4 persons) AND housing cost burden is greater than 30%\n",
    "#  T7_LF_CB_O - Owner occupied AND household type is large family (5 or more persons) AND housing cost burden is greater than 30%\n",
    "\n",
    "\n",
    "columns_to_keep = [\n",
    "    \"GEOID\", \"STATE\", \"COUNTY\", \"NAME\",\n",
    "    \"T2_EST1\",        \n",
    "    \"T8_EST69\",      \n",
    "    \"T8_EST82\",           \n",
    "    \"T8_EST95\",         \n",
    "    \"T8_EST108\",    \n",
    "    \"T8_LE30_CB_PCT\", \"T8_LE30_CB50_PCT\",\n",
    "    \"T8_LE50_CB_PCT\", \"T8_LE50_CB50_PCT\",\n",
    "    \"T8_LE80_CB_PCT\", \"T8_LE80_CB50_PCT\",\n",
    "    \"T8_CB_PCT\", \"T8_CB50_PCT\",\n",
    "    \"T7_SF_CB_R\", \"T7_LF_CB_R\", \"T7_SF_CB_O\", \"T7_LF_CB_O\",\n",
    "]\n",
    "chas = chas[columns_to_keep].copy()\n"
   ]
  },
  {
   "cell_type": "code",
   "execution_count": 5,
   "id": "c795e625",
   "metadata": {},
   "outputs": [
    {
     "data": {
      "text/plain": [
       "GEOID               0\n",
       "STATE               0\n",
       "COUNTY              0\n",
       "NAME                0\n",
       "T2_EST1             0\n",
       "T8_EST69            0\n",
       "T8_EST82            0\n",
       "T8_EST95            0\n",
       "T8_EST108           0\n",
       "T8_LE30_CB_PCT      1\n",
       "T8_LE30_CB50_PCT    1\n",
       "T8_LE50_CB_PCT      1\n",
       "T8_LE50_CB50_PCT    1\n",
       "T8_LE80_CB_PCT      0\n",
       "T8_LE80_CB50_PCT    0\n",
       "T8_CB_PCT           0\n",
       "T8_CB50_PCT         0\n",
       "T7_SF_CB_R          0\n",
       "T7_LF_CB_R          0\n",
       "T7_SF_CB_O          0\n",
       "T7_LF_CB_O          0\n",
       "dtype: int64"
      ]
     },
     "execution_count": 5,
     "metadata": {},
     "output_type": "execute_result"
    }
   ],
   "source": [
    "#check for missing value\n",
    "subset = chas[columns_to_keep]\n",
    "missing_counts   = subset.isna().sum()   \n",
    "\n",
    "missing_counts"
   ]
  },
  {
   "cell_type": "code",
   "execution_count": 6,
   "id": "a462ffe0",
   "metadata": {},
   "outputs": [],
   "source": [
    "colums_renames = {\n",
    "\n",
    "    \"GEOID\"        : \"GEOID\",\n",
    "    \"STATE\"        : \"STATE\",\n",
    "    \"COUNTY\"       : \"COUNTY\",\n",
    "    \"NAME\"         : \"NAME\",\n",
    "\n",
    "    \"T2_EST1\"      : \"total_households\",\n",
    "    \"T8_EST69\"     : \"cost_burdened_households_leq_30_percent\",\n",
    "    \"T8_EST82\"     : \"cost_burdened_households_30_to_50_percent\",\n",
    "    \"T8_EST95\"     : \"cost_burdened_households_50_to_80_percent\",\n",
    "    \"T8_EST108\"    : \"cost_burdened_households_all_income_levels_count\",\n",
    "\n",
    "    \"T8_CB_PCT\"        : \"Percent_of_all_with_cb_over30_percent\",\n",
    "    \"T8_CB50_PCT\"      : \"Percent_of_all_with_cb_over50_percent\",\n",
    "    \n",
    "    \"T8_LE30_CB_PCT\"   : \"Percent_of_low_income_cb_over30_percent\",\n",
    "    \"T8_LE30_CB50_PCT\" : \"Percent_of_low_income_cb_over50_percent\",\n",
    "\n",
    "    \"T8_LE50_CB_PCT\"   : \"Percent_of_medi_income_cb_over30_percent\",\n",
    "    \"T8_LE50_CB50_PCT\" : \"Percent_of_medi_income_cb_over50_percent\",\n",
    "\n",
    "    \"T8_LE80_CB_PCT\"   : \"Percent_of_high_income_cb_over30_percent\",\n",
    "    \"T8_LE80_CB50_PCT\" : \"Percent_of_high_income_cb_over50_percent\",\n",
    "\n",
    "    \"T7_SF_CB_R\"   : \"Percent_renter_small_family_count_cb_over30\",\n",
    "    \"T7_LF_CB_R\"   : \"Percent_renter_large_family_count_cb_over50\",\n",
    "    \"T7_SF_CB_O\"   : \"Percent_owner_small_family_count_cb_over30\",\n",
    "    \"T7_LF_CB_O\"   : \"Percent_owner_large_family_count_cb_over50\",\n",
    "}\n",
    "\n",
    "chas.rename(columns= colums_renames, inplace=True)"
   ]
  },
  {
   "cell_type": "code",
   "execution_count": 7,
   "id": "b3f6da97",
   "metadata": {},
   "outputs": [
    {
     "name": "stdout",
     "output_type": "stream",
     "text": [
      "Percent_of_medi_income_cb_over50_percent            1\n",
      "Percent_of_low_income_cb_over30_percent             1\n",
      "Percent_of_low_income_cb_over50_percent             1\n",
      "Percent_of_medi_income_cb_over30_percent            1\n",
      "GEOID                                               0\n",
      "total_households                                    0\n",
      "NAME                                                0\n",
      "COUNTY                                              0\n",
      "STATE                                               0\n",
      "cost_burdened_households_all_income_levels_count    0\n",
      "dtype: int64\n",
      "                                                     min         max  \\\n",
      "GEOID                                             1001.0    72153.00   \n",
      "STATE                                                1.0       72.00   \n",
      "COUNTY                                               1.0      840.00   \n",
      "total_households                                    60.0  3332505.00   \n",
      "cost_burdened_households_leq_30_percent              0.0   531195.00   \n",
      "cost_burdened_households_30_to_50_percent            0.0   331775.00   \n",
      "cost_burdened_households_50_to_80_percent            0.0   367540.00   \n",
      "cost_burdened_households_all_income_levels_count     0.0   159240.00   \n",
      "Percent_of_low_income_cb_over30_percent              0.0      100.00   \n",
      "Percent_of_low_income_cb_over50_percent              0.0      100.00   \n",
      "Percent_of_medi_income_cb_over30_percent             0.0       87.00   \n",
      "Percent_of_medi_income_cb_over50_percent             0.0       70.34   \n",
      "Percent_of_high_income_cb_over30_percent             0.0       83.87   \n",
      "Percent_of_high_income_cb_over50_percent             0.0       54.61   \n",
      "Percent_of_all_with_cb_over30_percent                0.0       50.55   \n",
      "Percent_of_all_with_cb_over50_percent                0.0       28.43   \n",
      "Percent_renter_small_family_count_cb_over30          0.0   362820.00   \n",
      "Percent_renter_large_family_count_cb_over50          0.0   101550.00   \n",
      "Percent_owner_small_family_count_cb_over30           0.0   206370.00   \n",
      "Percent_owner_large_family_count_cb_over50           0.0    62545.00   \n",
      "\n",
      "                                                          mean  \n",
      "GEOID                                             31384.438684  \n",
      "STATE                                                31.281590  \n",
      "COUNTY                                              102.849115  \n",
      "total_households                                  38360.723378  \n",
      "cost_burdened_households_leq_30_percent            3420.447998  \n",
      "cost_burdened_households_30_to_50_percent          2421.625582  \n",
      "cost_burdened_households_50_to_80_percent          2836.334989  \n",
      "cost_burdened_households_all_income_levels_count   1414.484943  \n",
      "Percent_of_low_income_cb_over30_percent              66.540370  \n",
      "Percent_of_low_income_cb_over50_percent              49.044339  \n",
      "Percent_of_medi_income_cb_over30_percent             57.679870  \n",
      "Percent_of_medi_income_cb_over50_percent             33.347634  \n",
      "Percent_of_high_income_cb_over30_percent             44.034784  \n",
      "Percent_of_high_income_cb_over50_percent             21.514946  \n",
      "Percent_of_all_with_cb_over30_percent                22.146439  \n",
      "Percent_of_all_with_cb_over50_percent                 9.821363  \n",
      "Percent_renter_small_family_count_cb_over30        2107.746973  \n",
      "Percent_renter_large_family_count_cb_over50         442.555418  \n",
      "Percent_owner_small_family_count_cb_over30         1694.702577  \n",
      "Percent_owner_large_family_count_cb_over50          396.475629  \n"
     ]
    }
   ],
   "source": [
    "print(chas.isna().sum().sort_values(ascending=False).head(10))\n",
    "print(chas.describe().T[['min','max','mean']])"
   ]
  },
  {
   "cell_type": "code",
   "execution_count": null,
   "id": "cf581df6",
   "metadata": {},
   "outputs": [],
   "source": [
    "chas.to_csv('clean_data/clean_chas.csv', index= False)"
   ]
  },
  {
   "cell_type": "markdown",
   "id": "ab81c409",
   "metadata": {},
   "source": [
    "# Cleaning Socioeconomic Estimate Dataset"
   ]
  },
  {
   "cell_type": "code",
   "execution_count": 8,
   "id": "73f08444",
   "metadata": {},
   "outputs": [
    {
     "data": {
      "text/plain": [
       "(3221, 146)"
      ]
     },
     "execution_count": 8,
     "metadata": {},
     "output_type": "execute_result"
    }
   ],
   "source": [
    "soc = pd.read_csv('assets/ACS_5YR_Socioeconomic_Estimate_Data_by_County_-8265857031681572420.csv')\n",
    "soc.shape"
   ]
  },
  {
   "cell_type": "code",
   "execution_count": 9,
   "id": "7b895092",
   "metadata": {},
   "outputs": [
    {
     "data": {
      "text/plain": [
       "Index(['OBJECTID_1', 'GEOID', 'STATE', 'STATE_NAME', 'COUNTY', 'NAME',\n",
       "       'B08013EST1', 'B08013_AVG_TTW', 'B08303EST1', 'B08303_30MINUS_TTW',\n",
       "       ...\n",
       "       'B23006EST29', 'B23006EST29_PCT', 'B24021EST2', 'B24021EST17',\n",
       "       'B24021EST25', 'B24021EST28', 'B24021EST29', 'B24021EST32',\n",
       "       'Shape__Area', 'Shape__Length'],\n",
       "      dtype='object', length=146)"
      ]
     },
     "execution_count": 9,
     "metadata": {},
     "output_type": "execute_result"
    }
   ],
   "source": [
    "soc.columns"
   ]
  },
  {
   "cell_type": "code",
   "execution_count": 10,
   "id": "72805c91",
   "metadata": {},
   "outputs": [],
   "source": [
    "# After reading the data dictionary, I found that these columns are most relevant to our work\n",
    "\n",
    "# 4 Primary key  'GEOID', 'STATE',  'COUNTY', 'NAME'\n",
    "\n",
    "# Household information - - ability to pay \n",
    "# 'B19013EST1' = household income/poverty   \n",
    "# 'B19113EST1' = family income \n",
    "# 'B19202EST1' = median single income\n",
    "\n",
    "# 'B17021EST2_PCT' = POVERTY RATE\n",
    "# 'B23001_UE_PCT' = unempolyment rate\n",
    "\n",
    "\n",
    "# 'B25106_CB_LT35' = cost-burdened < 35%\n",
    "# 'B25106_CB_GT35' - cost-burdened >= 35%\n",
    "\n",
    "# 'B25014_CROWD_PCT' = households with more than 1 person or room\n",
    "\n",
    "# 'B17019_RENT' =  Renter-occupied \n",
    "# 'B17019_OWN'  =  Owner-occupied \n",
    "\n"
   ]
  },
  {
   "cell_type": "code",
   "execution_count": 11,
   "id": "ea5c5218",
   "metadata": {},
   "outputs": [],
   "source": [
    "rename_soc = {\n",
    "    'B19013EST1':'median_household_income',\n",
    "    'B19113EST1':'median_family_income',\n",
    "    'B19202EST1':'median_nonfamily_income',\n",
    "    'B17021EST2_PCT':'poverty_rate_pct',\n",
    "    'B23001_UE_PCT':'unemployment_rate_pct',\n",
    "    'B25106_CB_R_LT35':'renters_cb_lt35_cnt',\n",
    "    'B25106_CB_R_GT35':'renters_cb_ge35_cnt',\n",
    "    'B25106_CB_O_LT35':'owners_cb_lt35_cnt',\n",
    "    'B25106_CB_O_GT35':'owners_cb_ge35_cnt',\n",
    "    'B25014_CROWD_PCT':'crowded_hh_pct',\n",
    "    'B17019_RENT':'renter_hh_cnt',\n",
    "    'B17019_OWN':'owner_hh_cnt'\n",
    "}\n",
    "\n",
    "\n",
    "needed = ['GEOID','STATE','COUNTY','NAME', *rename_soc.keys()]\n",
    "soc = soc[needed].rename(columns=rename_soc)\n"
   ]
  },
  {
   "cell_type": "code",
   "execution_count": 12,
   "id": "7a3193a2",
   "metadata": {},
   "outputs": [
    {
     "data": {
      "text/plain": [
       "GEOID                       0\n",
       "STATE                       0\n",
       "COUNTY                      0\n",
       "NAME                        0\n",
       "median_household_income     1\n",
       "median_family_income        1\n",
       "median_nonfamily_income    13\n",
       "poverty_rate_pct            0\n",
       "unemployment_rate_pct       0\n",
       "renters_cb_lt35_cnt         0\n",
       "renters_cb_ge35_cnt         0\n",
       "owners_cb_lt35_cnt          0\n",
       "owners_cb_ge35_cnt          0\n",
       "crowded_hh_pct              0\n",
       "renter_hh_cnt               0\n",
       "owner_hh_cnt                0\n",
       "dtype: int64"
      ]
     },
     "execution_count": 12,
     "metadata": {},
     "output_type": "execute_result"
    }
   ],
   "source": [
    "columns_soc = [\n",
    "    'GEOID','STATE','COUNTY','NAME',\n",
    "    'median_household_income',\n",
    "    'median_family_income',\n",
    "    'median_nonfamily_income',\n",
    "    'poverty_rate_pct',\n",
    "    'unemployment_rate_pct',\n",
    "    'renters_cb_lt35_cnt',\n",
    "    'renters_cb_ge35_cnt',\n",
    "    'owners_cb_lt35_cnt',\n",
    "    'owners_cb_ge35_cnt',\n",
    "    'crowded_hh_pct',\n",
    "    'renter_hh_cnt',\n",
    "    'owner_hh_cnt'\n",
    "]\n",
    "\n",
    "subset = soc[columns_soc]\n",
    "missing_counts = subset.isna().sum()   \n",
    "\n",
    "missing_counts\n",
    "# Result show there are 13 missing row on the median_nonfamily_income\n",
    "# As this is <1% of the data, it won't impact much of the analysis if we leave it in"
   ]
  },
  {
   "cell_type": "code",
   "execution_count": 13,
   "id": "54466bdf",
   "metadata": {},
   "outputs": [
    {
     "name": "stdout",
     "output_type": "stream",
     "text": [
      "median_nonfamily_income    13\n",
      "median_household_income     1\n",
      "median_family_income        1\n",
      "GEOID                       0\n",
      "NAME                        0\n",
      "COUNTY                      0\n",
      "STATE                       0\n",
      "poverty_rate_pct            0\n",
      "unemployment_rate_pct       0\n",
      "renters_cb_lt35_cnt         0\n",
      "dtype: int64\n",
      "                             min        max          mean\n",
      "GEOID                     1001.0   72153.00  31384.438684\n",
      "STATE                        1.0      72.00     31.281590\n",
      "COUNTY                       1.0     840.00    102.849115\n",
      "median_household_income  12283.0  147111.00  54171.514596\n",
      "median_family_income     15478.0  182567.00  67463.473602\n",
      "median_nonfamily_income   4783.0   96421.00  30964.596322\n",
      "poverty_rate_pct             0.0      66.19     15.380863\n",
      "unemployment_rate_pct        0.0      34.85      5.450699\n",
      "renters_cb_lt35_cnt          0.0  528543.00   4329.934492\n",
      "renters_cb_ge35_cnt          0.0  449504.00   1878.503881\n",
      "owners_cb_lt35_cnt           0.0  156577.00   2639.434027\n",
      "owners_cb_ge35_cnt           0.0  381890.00   2769.505744\n",
      "crowded_hh_pct               0.0      42.17      2.383154\n",
      "renter_hh_cnt                0.0  184025.00   1501.171686\n",
      "owner_hh_cnt                 0.0   48393.00    848.458243\n"
     ]
    }
   ],
   "source": [
    "print(soc.isna().sum().sort_values(ascending=False).head(10))\n",
    "print(soc.describe().T[['min','max','mean']])"
   ]
  },
  {
   "cell_type": "code",
   "execution_count": 14,
   "id": "44d10df1",
   "metadata": {},
   "outputs": [],
   "source": [
    "soc.to_csv('clean_data/clean_Soc.csv', index =False)"
   ]
  },
  {
   "cell_type": "markdown",
   "id": "073c6adb",
   "metadata": {},
   "source": [
    "# Merge CHAS and Socioeconomic Estimate Dataset"
   ]
  },
  {
   "cell_type": "code",
   "execution_count": 15,
   "id": "7769e99f",
   "metadata": {},
   "outputs": [],
   "source": [
    "# Now we have two clean datasets, we can load them for further analysis \n",
    "\n",
    "chas = pd.read_csv('clean_data/clean_chas.csv', dtype = {'GEOID':'string'})\n",
    "soc = pd.read_csv('clean_data/clean_Soc.csv', dtype = {'GEOID':'string','STATE':'string', 'COUNTY':'string'})"
   ]
  },
  {
   "cell_type": "code",
   "execution_count": null,
   "id": "666086df",
   "metadata": {},
   "outputs": [],
   "source": [
    "# Merge the two datasets on GEOID\n",
    "# This will allow us to combine the housing data with the socioeconomic data\n",
    "soc_chas = (\n",
    "    chas.merge(soc, on='GEOID', how='left', validate='one_to_one')\n",
    "        .astype({'STATE_x':'string'})  \n",
    "        .drop(columns=['STATE_y','COUNTY_y','NAME_y'])\n",
    "        .rename(columns={'STATE_x':'STATE','COUNTY_x':'COUNTY','NAME_x':'NAME'})\n",
    ")\n",
    "soc_chas"
   ]
  },
  {
   "cell_type": "code",
   "execution_count": null,
   "id": "19b89d82",
   "metadata": {},
   "outputs": [],
   "source": [
    "# Check for missing values in the merged dataset and sort them to see which columns have the most missing data\n",
    "print(soc_chas.isna().sum().sort_values(ascending=False))"
   ]
  },
  {
   "cell_type": "markdown",
   "id": "96f2f7a7",
   "metadata": {},
   "source": [
    "# Clean Redfin Dataset"
   ]
  },
  {
   "cell_type": "code",
   "execution_count": 16,
   "id": "359b5342",
   "metadata": {},
   "outputs": [],
   "source": [
    "# Load the Redfin county market tracker data\n",
    "redfin_county_data = pd.read_csv('assets\\county_market_tracker.tsv000.gz', sep=\"\\t\", header=0, dtype=str)"
   ]
  },
  {
   "cell_type": "code",
   "execution_count": null,
   "id": "d215fb27",
   "metadata": {},
   "outputs": [],
   "source": [
    "#convert date columns to datetime and numeric columns to float\n",
    "redfin_county_data['PERIOD_BEGIN'] = pd.to_datetime(redfin_county_data['PERIOD_BEGIN'])\n",
    "redfin_county_data['PERIOD_END'] = pd.to_datetime(redfin_county_data['PERIOD_END'])\n",
    "redfin_county_data['MEDIAN_SALE_PRICE'] = redfin_county_data['MEDIAN_SALE_PRICE'].astype('float')\n",
    "redfin_county_data['MEDIAN_LIST_PRICE'] = redfin_county_data['MEDIAN_LIST_PRICE'].astype('float')\n"
   ]
  },
  {
   "cell_type": "code",
   "execution_count": null,
   "id": "87d7ff6b",
   "metadata": {},
   "outputs": [],
   "source": [
    "redfin_county_data.head()"
   ]
  },
  {
   "cell_type": "code",
   "execution_count": null,
   "id": "a92b1a41",
   "metadata": {},
   "outputs": [],
   "source": [
    "# Filter the Redfin data for the years 2016 to 2020\n",
    "redfin_county_data_2016_2020 = redfin_county_data[(redfin_county_data['PERIOD_BEGIN'] >= '2016-01-01') & (redfin_county_data['PERIOD_BEGIN'] <= '2020-12-31')].copy()"
   ]
  },
  {
   "cell_type": "code",
   "execution_count": null,
   "id": "0b936e91",
   "metadata": {},
   "outputs": [],
   "source": [
    "# Extract the county name from the REGION column\n",
    "def extract_county_name(row): \n",
    "    full_county_name = row['REGION']\n",
    "    if \"County\" in full_county_name: \n",
    "        return full_county_name.split(\" County\")[0]\n",
    "    else: \n",
    "        return full_county_name.split(\" Parish\")[0]"
   ]
  },
  {
   "cell_type": "code",
   "execution_count": null,
   "id": "94dc3561",
   "metadata": {},
   "outputs": [],
   "source": [
    "# Apply the function to create a new column for county names\n",
    "redfin_county_data_2016_2020['COUNTY_NAME'] = redfin_county_data_2016_2020.apply(func=extract_county_name, axis=1)"
   ]
  },
  {
   "cell_type": "code",
   "execution_count": null,
   "id": "a59d4e80",
   "metadata": {},
   "outputs": [],
   "source": [
    "redfin_county_data_2016_2020['COUNTY_NAME']"
   ]
  },
  {
   "cell_type": "code",
   "execution_count": null,
   "id": "dcde0249",
   "metadata": {},
   "outputs": [],
   "source": [
    "redfin_county_data_2016_2020.columns"
   ]
  },
  {
   "cell_type": "code",
   "execution_count": null,
   "id": "7cae0614",
   "metadata": {},
   "outputs": [],
   "source": [
    "columns_to_keep = ['PERIOD_BEGIN', 'PERIOD_END', 'COUNTY_NAME', 'STATE', 'STATE_CODE', 'MEDIAN_SALE_PRICE', 'MEDIAN_LIST_PRICE']"
   ]
  },
  {
   "cell_type": "code",
   "execution_count": null,
   "id": "11073d47",
   "metadata": {},
   "outputs": [],
   "source": [
    "redfin_data = redfin_county_data_2016_2020[columns_to_keep].copy()"
   ]
  },
  {
   "cell_type": "code",
   "execution_count": null,
   "id": "9e5a310d",
   "metadata": {},
   "outputs": [],
   "source": [
    "# redfin_data.to_csv('clean_data/clean_redfin.csv', index = False)\n"
   ]
  },
  {
   "cell_type": "markdown",
   "id": "6f44fd48",
   "metadata": {},
   "source": [
    "# Matching to FIPS Code and finalize data set"
   ]
  },
  {
   "cell_type": "code",
   "execution_count": null,
   "id": "bef29959",
   "metadata": {},
   "outputs": [],
   "source": [
    "# Load the FIPS reference table\n",
    "fips = pd.read_csv('assets\\State__County_and_City_FIPS_Reference_Table_20250602.csv')"
   ]
  },
  {
   "cell_type": "code",
   "execution_count": null,
   "id": "346564dd",
   "metadata": {},
   "outputs": [],
   "source": [
    "# Clean the FIPS data to keep only relevant columns and remove duplicates\n",
    "fips.dropna(inplace=True)\n",
    "fips.drop_duplicates(subset=['State Name', 'County Name', 'State Code', 'County Code', 'StCnty FIPS Code' ], keep='first', inplace=True)\n",
    "fips.drop(labels=['City Name', 'City Code', 'StCntyCity FIPS Code'], axis=1, inplace=True)"
   ]
  },
  {
   "cell_type": "code",
   "execution_count": null,
   "id": "ff3fa57e",
   "metadata": {},
   "outputs": [],
   "source": [
    "#convert the 'StCnty FIPS Code' to int\n",
    "fips['StCnty FIPS Code'] = fips['StCnty FIPS Code'].astype('int')"
   ]
  },
  {
   "cell_type": "code",
   "execution_count": null,
   "id": "0a9273bc",
   "metadata": {},
   "outputs": [],
   "source": [
    "\n",
    "soc_chas['GEOID'] = soc_chas['GEOID'].astype('int')"
   ]
  },
  {
   "cell_type": "code",
   "execution_count": null,
   "id": "ef24f5f8",
   "metadata": {},
   "outputs": [],
   "source": [
    "soc_chas.merge(right=fips, left_on='GEOID', right_on = 'StCnty FIPS Code', how='left')"
   ]
  },
  {
   "cell_type": "code",
   "execution_count": null,
   "id": "eb180e8f",
   "metadata": {},
   "outputs": [],
   "source": [
    "redfin_data['COUNTY_NAME']"
   ]
  },
  {
   "cell_type": "code",
   "execution_count": null,
   "id": "3ebeb322",
   "metadata": {},
   "outputs": [],
   "source": [
    "redfin_data['COUNTY_NAME'] = redfin_data['COUNTY_NAME'].str.upper()"
   ]
  },
  {
   "cell_type": "code",
   "execution_count": null,
   "id": "866e3085",
   "metadata": {},
   "outputs": [],
   "source": [
    "fips.columns"
   ]
  },
  {
   "cell_type": "code",
   "execution_count": null,
   "id": "c19d6b6f",
   "metadata": {},
   "outputs": [],
   "source": [
    "# Merge the Redfin data with the FIPS data to get the FIPS codes for each county\n",
    "redfin_data_with_fips = redfin_data.merge(right=fips, left_on=['COUNTY_NAME', 'STATE_CODE'], right_on=['County Name', 'State Code'])"
   ]
  },
  {
   "cell_type": "code",
   "execution_count": null,
   "id": "b631ef10",
   "metadata": {},
   "outputs": [],
   "source": [
    "redfin_data_with_fips.columns"
   ]
  },
  {
   "cell_type": "code",
   "execution_count": null,
   "id": "4c3dfad3",
   "metadata": {},
   "outputs": [],
   "source": [
    "# Now we can merge the Redfin data with the Soc-Chas data using the FIPS codes\n",
    "soc_chas_redfin = soc_chas.merge(right=redfin_data_with_fips, left_on='GEOID', right_on= 'StCnty FIPS Code')"
   ]
  },
  {
   "cell_type": "code",
   "execution_count": null,
   "id": "cf48177e",
   "metadata": {},
   "outputs": [],
   "source": [
    "soc_chas_redfin.to_csv('clean_data/soc_chas_redfin.csv', index = False)\n"
   ]
  },
  {
   "cell_type": "markdown",
   "id": "b83e8fbd",
   "metadata": {},
   "source": []
  },
  {
   "cell_type": "code",
   "execution_count": null,
   "id": "27ab5df9",
   "metadata": {},
   "outputs": [],
   "source": []
  },
  {
   "cell_type": "code",
   "execution_count": null,
   "id": "317c6cc3",
   "metadata": {},
   "outputs": [],
   "source": []
  },
  {
   "cell_type": "code",
   "execution_count": null,
   "id": "57f4e436",
   "metadata": {},
   "outputs": [],
   "source": []
  },
  {
   "cell_type": "code",
   "execution_count": null,
   "id": "0b1ee4f0",
   "metadata": {},
   "outputs": [],
   "source": []
  },
  {
   "cell_type": "code",
   "execution_count": null,
   "id": "047ab8bc",
   "metadata": {},
   "outputs": [],
   "source": []
  },
  {
   "cell_type": "code",
   "execution_count": null,
   "id": "7767ab85",
   "metadata": {},
   "outputs": [],
   "source": []
  },
  {
   "cell_type": "code",
   "execution_count": null,
   "id": "290f82d2",
   "metadata": {},
   "outputs": [],
   "source": []
  }
 ],
 "metadata": {
  "kernelspec": {
   "display_name": "base",
   "language": "python",
   "name": "python3"
  },
  "language_info": {
   "codemirror_mode": {
    "name": "ipython",
    "version": 3
   },
   "file_extension": ".py",
   "mimetype": "text/x-python",
   "name": "python",
   "nbconvert_exporter": "python",
   "pygments_lexer": "ipython3",
   "version": "3.9.7"
  }
 },
 "nbformat": 4,
 "nbformat_minor": 5
}
